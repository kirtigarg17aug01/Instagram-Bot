{
 "cells": [
  {
   "cell_type": "code",
   "execution_count": 52,
   "id": "4f8a4a2c",
   "metadata": {},
   "outputs": [],
   "source": [
    "from selenium import webdriver\n",
    "from selenium.webdriver.chrome.service import Service\n",
    "from webdriver_manager.chrome import ChromeDriverManager\n",
    "from bs4 import BeautifulSoup as bs\n",
    "from selenium.common.exceptions import NoSuchElementException\n",
    "from selenium.common.exceptions import TimeoutException\n",
    "from selenium.common.exceptions import StaleElementReferenceException\n",
    "from selenium.webdriver.common.by import By\n",
    "from selenium.webdriver.support.ui import WebDriverWait\n",
    "from selenium.webdriver.support import expected_conditions as EC\n",
    "import time\n",
    "from datetime import datetime,timedelta"
   ]
  },
  {
   "cell_type": "code",
   "execution_count": 53,
   "id": "ae7235af",
   "metadata": {
    "scrolled": true
   },
   "outputs": [
    {
     "name": "stdout",
     "output_type": "stream",
     "text": [
      "\n"
     ]
    }
   ],
   "source": [
    "#opening the browser.\n",
    "driver = webdriver.Chrome(service= Service(ChromeDriverManager().install()))\n",
    "#opening the instagram page in the above browser.\n",
    "driver.get('https://www.instagram.com/?hl=en')\n",
    "#declaring wait.\n",
    "wait = WebDriverWait(driver,10)\n",
    "\n",
    "try:\n",
    "    link = wait.until(EC.presence_of_element_located((By.CLASS_NAME, \"_ab37\")))\n",
    "    link.click()\n",
    "    mailid = wait.until(EC.presence_of_element_located((By.NAME, \"email\")))\n",
    "    mailid.send_keys('kirtigarg17aug01@gmail.com')\n",
    "    pswrd = driver.find_element(By.NAME, \"pass\")\n",
    "    pswrd.send_keys('Kkkirtigarg@170801')\n",
    "    pswrd.submit()\n",
    "    mailid.submit()\n",
    "    pop_up = wait.until(EC.element_to_be_clickable((By.XPATH, \"//button[text()='Not Now']\")))\n",
    "    pop_up.click()\n",
    "    \n",
    "except TimeoutException:\n",
    "    print(\"Pop up not removed!\")"
   ]
  },
  {
   "cell_type": "code",
   "execution_count": 141,
   "id": "5a4555ad",
   "metadata": {},
   "outputs": [],
   "source": [
    "pop_up = wait.until(EC.element_to_be_clickable((By.XPATH, \"//button[text()='Not Now']\")))\n",
    "pop_up.click()"
   ]
  },
  {
   "cell_type": "markdown",
   "id": "1b7821a7",
   "metadata": {},
   "source": [
    "## Question : 1\n",
    ">Now your friend has followed a lot of different food bloggers, he needs to analyse the habits of these bloggers.\n",
    "\n",
    "    1.From the list of instagram handles you obtained when you searched ‘food’ in previous project. Open the first 10 handles and find the top 5 which have the highest number of followers\n",
    "    2. Now Find the number of posts these handles have done in the previous 3 days.\n",
    "    3. Depict this inform"
   ]
  },
  {
   "cell_type": "markdown",
   "id": "3569dc87",
   "metadata": {},
   "source": [
    ">1.1 From the list of instagram handles you obtained when you searched ‘food’ in previous project. Open the first 10 handles and find the top 5 which have the highest number of followers"
   ]
  },
  {
   "cell_type": "code",
   "execution_count": null,
   "id": "0eae5215",
   "metadata": {
    "scrolled": true
   },
   "outputs": [],
   "source": [
    "#this code is for when the search bar is visible. this you will find when the size of the instgram\n",
    "#window is  short.\n",
    "\n",
    "try :\n",
    "    search_box = wait.until(EC.element_to_be_clickable((By.CLASS_NAME, \"_aauy\")))\n",
    "    search_box.clear()\n",
    "    search_box.send_keys('food')\n",
    "    wait.until(EC.presence_of_element_located((By.CLASS_NAME, '_abm4')))\n",
    "    li = driver.find_elements(By.CLASS_NAME, '_abm4')\n",
    "    food_handles=[]\n",
    "    for i in li:\n",
    "        if i.text[0] != \"#\":\n",
    "            food_handles.append(i.text.split('\\n')[0])\n",
    "#             print(i.text.split('\\n')[0])\n",
    "    print(food_handles[0:10])\n",
    "    \n",
    "except TimeoutException:\n",
    "    print(\"can't search\")\n",
    "    "
   ]
  },
  {
   "cell_type": "code",
   "execution_count": null,
   "id": "8fd5852d",
   "metadata": {
    "scrolled": true
   },
   "outputs": [],
   "source": [
    "food_list = food_handles[0:10]\n",
    "print(food_list)"
   ]
  },
  {
   "cell_type": "code",
   "execution_count": 3,
   "id": "d0af8737",
   "metadata": {},
   "outputs": [],
   "source": [
    "def search_open(driver, query):\n",
    "    try :\n",
    "        search_box = wait.until(EC.element_to_be_clickable((By.CLASS_NAME, \"_aauy\")))\n",
    "        search_box.clear()\n",
    "        search_box.send_keys(query)\n",
    "\n",
    "        #waiting for the first element to load\n",
    "        wait.until(EC.presence_of_element_located((By.CLASS_NAME, '_abm4'))).click()\n",
    "\n",
    "    \n",
    "    except TimeoutException:\n",
    "        print(\"can't search!\")"
   ]
  },
  {
   "cell_type": "code",
   "execution_count": 4,
   "id": "202e7ef2",
   "metadata": {},
   "outputs": [],
   "source": [
    "food_list = ['foodfoodtv', 'foodtalkindia', 'value_of_food', 'sodelhi_food', 'iitd.food.critic', 'foodiee.preneur', 'food', 'dilsefoodie', 'foodie_incarnate', 'foodnetwork']\n",
    "\n",
    "def top_five(driver,handles):\n",
    "    \n",
    "    d = {}\n",
    "    \n",
    "    for i in handles:\n",
    "        search_open(driver, i)\n",
    "        \n",
    "        \n",
    "        follower_count = wait.until(EC.element_to_be_clickable((By.XPATH, \"//li[contains(@class, 'x6s0dn4')]/a/div/span\"))).get_attribute(\"title\")\n",
    "        follower_btn = wait.until(EC.element_to_be_clickable((By.XPATH, \"//li[contains(@class, 'x6s0dn4')]/a/div\")))\n",
    "        \n",
    "        d[i] = int(follower_count.replace(\",\",\"\"))\n",
    "        time.sleep(2)\n",
    "        driver.back()\n",
    "    d = dict(sorted(d.items(), key = lambda x : x[1], reverse = True))\n",
    "#     print(d)\n",
    "    count = 0\n",
    "    final_dic = {}\n",
    "    for i in d:\n",
    "        final_dic[i]=d[i]\n",
    "        count += 1\n",
    "        if count>4:\n",
    "            break\n",
    "    return final_dic\n",
    "        "
   ]
  },
  {
   "cell_type": "code",
   "execution_count": 58,
   "id": "fc02f43e",
   "metadata": {
    "scrolled": true
   },
   "outputs": [],
   "source": [
    "topFive = top_five(driver, food_list)"
   ]
  },
  {
   "cell_type": "code",
   "execution_count": 59,
   "id": "40fe2a83",
   "metadata": {},
   "outputs": [
    {
     "name": "stdout",
     "output_type": "stream",
     "text": [
      "{'foodnetwork': 12760921, 'foodie_incarnate': 1465130, 'dilsefoodie': 1066035, 'foodtalkindia': 309353, 'foodfoodtv': 272284}\n",
      "<class 'dict'>\n"
     ]
    }
   ],
   "source": [
    "print(topFive)\n",
    "print(type(topFive))"
   ]
  },
  {
   "cell_type": "markdown",
   "id": "4e32c5b4",
   "metadata": {},
   "source": [
    ">1.2 Now Find the number of posts these handles have done in the previous 3 days."
   ]
  },
  {
   "cell_type": "code",
   "execution_count": 141,
   "id": "a1e35c9e",
   "metadata": {},
   "outputs": [],
   "source": [
    "topfive = {'foodnetwork': 12760921, 'foodie_incarnate': 1465130, 'dilsefoodie': 1066035, 'foodtalkindia': 309353, 'foodfoodtv': 272284}"
   ]
  },
  {
   "cell_type": "code",
   "execution_count": 146,
   "id": "870db446",
   "metadata": {},
   "outputs": [],
   "source": [
    "def search_open(driver, query):\n",
    "    try :\n",
    "        search_box = wait.until(EC.element_to_be_clickable((By.CLASS_NAME, \"_aauy\")))\n",
    "        search_box.clear()\n",
    "        search_box.send_keys(query)\n",
    "\n",
    "        #waiting for the first element to load\n",
    "        wait.until(EC.presence_of_element_located((By.CLASS_NAME, '_abm4'))).click()\n",
    "\n",
    "    \n",
    "    except TimeoutException:\n",
    "        print(\"can't search!\")"
   ]
  },
  {
   "cell_type": "code",
   "execution_count": 151,
   "id": "a7a1c3f9",
   "metadata": {
    "scrolled": true
   },
   "outputs": [
    {
     "name": "stdout",
     "output_type": "stream",
     "text": [
      "{'foodnetwork': 46, 'foodie_incarnate': 2, 'dilsefoodie': 3, 'foodtalkindia': 5, 'foodfoodtv': 1}\n"
     ]
    }
   ],
   "source": [
    "d = {}\n",
    "for i in topfive:\n",
    "    search_open(driver,i)\n",
    "    time.sleep(2)\n",
    "    \n",
    "    \n",
    "    # clicking on first post after scrolling till it is visible.\n",
    "    element = driver.find_element(By.XPATH,'//div[starts-with(@class,\"_aabd \")]')\n",
    "    time.sleep(1)\n",
    "    driver.execute_script(\"arguments[0].scrollIntoView(true);\", element)\n",
    "    time.sleep(1)\n",
    "    element.click()\n",
    "    \n",
    "    #list of pinned posts\n",
    "    Pinned_posts = driver.find_elements(By.XPATH, '//div[@class=\"_aatp\"]/div/*[name()=\"svg\"][@aria-label=\"Pinned post icon\"]')\n",
    "\n",
    "    count = 0\n",
    "    flag = True\n",
    "    while flag:\n",
    "        \n",
    "        #to rule out the pinned posts bcz they are obviosly older than three days.\n",
    "        if len(Pinned_posts)!=0:\n",
    "            for j in Pinned_posts:\n",
    "                next_post = wait.until(EC.element_to_be_clickable((By.XPATH, \"//div[contains(@class,'_aaqg')]/button\")))\n",
    "                next_post.click()\n",
    "        date_time = wait.until(EC.presence_of_element_located((By.XPATH, \"//time[@class = '_aaqe']\"))).get_attribute(\"datetime\")\n",
    "        # converting date_time from string type to datetime type\n",
    "        date = datetime.fromisoformat(date_time[0:19])\n",
    "        today = datetime.now()\n",
    "        difference = today-date\n",
    "        if difference.days<=3:\n",
    "            count += 1\n",
    "        else: \n",
    "            flag = False\n",
    "            \n",
    "\n",
    "        try:\n",
    "            next_post = wait.until(EC.element_to_be_clickable((By.XPATH, \"//div[contains(@class,'_aaqg')]/button\")))\n",
    "            next_post.click()\n",
    "\n",
    "        except TimeoutException as e:\n",
    "            print(\"There are no more posts!\")\n",
    "            flag = False\n",
    "\n",
    "    close_btn = wait.until(EC.element_to_be_clickable((By.XPATH, \"//div[contains(@class,'x10l6tqk')]/div/div\")))\n",
    "    close_btn.click()\n",
    "    \n",
    "    #going back to home screen.\n",
    "    driver.back()\n",
    "    d[i] = count\n",
    "print(d)"
   ]
  },
  {
   "cell_type": "markdown",
   "id": "6b32c42f",
   "metadata": {},
   "source": [
    "> 3. Depict this information using a suitable graph."
   ]
  },
  {
   "cell_type": "code",
   "execution_count": 153,
   "id": "9eeec547",
   "metadata": {},
   "outputs": [
    {
     "data": {
      "image/png": "[encoded data removed]",
      "text/plain": [
       "<Figure size 432x288 with 1 Axes>"
      ]
     },
     "metadata": {
      "needs_background": "light"
     },
     "output_type": "display_data"
    }
   ],
   "source": [
    "import matplotlib.pyplot as plt\n",
    "x = list(d.keys())\n",
    "y = list(d.values())\n",
    "plt.bar(x,y,align = 'center')\n",
    "plt.ylabel(\"No. of posts in the last three days\")\n",
    "plt.xticks(x,rotation = 50)\n",
    "plt.show()\n"
   ]
  },
  {
   "cell_type": "markdown",
   "id": "f6fa12d5",
   "metadata": {},
   "source": [
    "## Question: 2"
   ]
  },
  {
   "cell_type": "markdown",
   "id": "472ecd16",
   "metadata": {},
   "source": [
    ">Your friend also needs a list of hashtags that he should use in his posts.\n",
    "\n",
    "    1. Open the 5 handles you obtained in the last question, and scrape the content of the first 10 posts of each handle."
   ]
  },
  {
   "cell_type": "code",
   "execution_count": 80,
   "id": "9a4cbef8",
   "metadata": {},
   "outputs": [],
   "source": [
    "topfive = {'foodnetwork': 12760921, 'foodie_incarnate': 1465130, 'dilsefoodie': 1066035, 'foodtalkindia': 309353, 'foodfoodtv': 272284}"
   ]
  },
  {
   "cell_type": "code",
   "execution_count": 81,
   "id": "3c85751f",
   "metadata": {},
   "outputs": [],
   "source": [
    "def search_open(driver, query):\n",
    "    try :\n",
    "        search_icon = driver.find_elements(By.XPATH, \"//div[contains(@class,'x1n2onr6')]/a\")[2]\n",
    "        search_icon.click()\n",
    "        # clicking on search box\n",
    "        search_box = wait.until(EC.element_to_be_clickable((By.XPATH, \"//div[contains(@class,'_aawf')]/input\")))\n",
    "        search_box.click()\n",
    "        search_box.clear()\n",
    "        search_box.send_keys(query)\n",
    "\n",
    "        #waiting for the first element to load\n",
    "        first = wait.until(EC.presence_of_element_located((By.CLASS_NAME, '_abm4')))\n",
    "        first.click()\n",
    "\n",
    "    \n",
    "    except TimeoutException:\n",
    "        print(\"can't search!\")"
   ]
  },
  {
   "cell_type": "code",
   "execution_count": 83,
   "id": "a37d8d2c",
   "metadata": {
    "scrolled": true
   },
   "outputs": [
    {
     "name": "stdout",
     "output_type": "stream",
     "text": [
      "{'foodnetwork': {1: \"Recipe of the Day: @inagarten's Chicken Pot Pie 🤩\\n\\nSearch for the recipe on FoodNetwork.com!\", 2: \"Get a sneak peek at the tailgate dishes being served up when the @broncos host the @colts on the next episode of @nfl #TailgateTakedown!\\n\\nIt's all-new Wednesday at 9|8c.\", 3: 'Unravel store-bought cinnamon roll dough to make swirled PANCAKES that are the best of both worlds! 🌀\\u2060\\n\\u2060\\nSearch \"Cinnamon Roll-Wrapped Pancakes\" on FoodNetwork.com for the recipe!\\u2060\\n\\u2060\\n🎥: @sprinklebakes', 4: '@wolfiesmom whips up easy-to-make no-bake granola bars with a decadent chocolate drizzle! 🤤\\n\\n#KidsBakingChampionship is all-new Monday at 8|7c. Stream it the same day on @discoveryplus. #discoveryplus\\n\\nFind the recipe for Valerie\\'s \"No-Bake Granola Bars with Carob Drizzle\" on FoodNetwork.com!', 5: '@chefanneburrell prepares a flavorful, plant-based burger that\\'s just as satisfying as its meaty counterpart! 🍔\\n\\n#WorstCooks is all-new Sunday at 8|7c.\\n\\nFind the recipe for \"Mushroom and Black Bean Burger with American Cheese\" on FoodNetwork.com!', 6: 'Shrimp Coconut Curry is the comfy weeknight meal you NEEED! (Thanks, @ManeetChauhan 👏)\\u2060\\n\\u2060\\nGet the recipe with the link in our bio.', 7: 'The dinner options are endless when you have a pot of homemade chicken stock simmering on the stove! @geoffreyzakarian uses kitchen leftovers for an easy and money-saving stock 👏👏\\n\\nWatch #TheKitchen, Saturdays at 11a|10c and subscribe to @discoveryplus to stream more episodes. #discoveryplus\\n\\nGet the recipe for \"GZ\\'s Chicken Stock\" on FoodNetwork.com!', 8: 'With basket ingredients to gamble, things can get a little DICEY on #Chopped Casino Royale! 🎲\\n\\nDon’t miss battle two of this tournament on Tuesday at 8|7c! 🔪 Stream past seasons of #Chopped now on @discoveryplus. #discoveryplus', 9: '@superchef_23 grills up a spice-rubbed steak with lemongrass for this easy and elegant rice bowl!\\n\\n#WorstCooks is all-new Sunday at 8|7c.\\n\\nFind the recipe for \"Sesame Skirt Steak with Coconut Lemongrass Rice Bowl\" on Foodnetwork.com!', 10: \"@mollyyeh fills her golden brown Arayes, a popular Middle Eastern dish, with delicious spiced beef and serves them with a side of creamy yogurt-tahini sauce 😍🥙\\n\\nWatch a NEW #GirlMeetsFarm Sundays @ 11a|10c. Subscribe to @discoveryplus to stream the series. #discoveryplus\\n\\nGet Molly's recipe for Arayes on FoodNetwork.com!\"}, 'foodie_incarnate': {1: \"4 Million Subscribers on YouTube🤩🤩\\n.\\nWhen i started my YouTube journey back in Dec 2020, if someone had told me that i'll be having 40,00,000+ subscribers a couple of years later, i'd have laughed on it. But with loads of hardwork and loads of love that you guys gave me..i have reached this milestone. Can't thank you guys enough.❤️❤️\\nWill be working even harder to post even better content and keep showing you guys the best vegetarian food on Earth.🤗🤗\", 2: 'Lunch scenes from @potpot.in 🤩🤩\\n.\\nOne of the best eateries in DLF Avenue, Saket👍🏻\\n.\\n#foodieincarnate #foodieincarnaterestaurantreviews #newdelhi #dlfavenue', 3: 'Crazy Making Process of Manda Roti in Indore😱😱\\n.\\nWatch the full video on my YouTube channel. Link is in my bio🤗🤗\\n.\\n#foodieincarnate #reelitfeelit #reelkarofeelkaro #reelsinstagram #reels #bread #indore #viralfood #indianfood #explore', 4: 'Insane Making Process of Kala Namak😱😱\\n.\\nWatch the full video on my YouTube channel. Link is in my bio🤗🤗\\n.\\n#foodieincarnate #reelitfeelit #reelkarofeelkaro #reelsinstagram #reels #streetfood #unique #viralvideos #explore', 5: 'Mahakal Thandai of Indore😱😱\\n.\\nWatch the full video on my YouTube channel. Link is in my bio🤗🤗\\n.\\n#foodieincarnate #reelitfeelit #reelkarofeelkaro #reelsinstagram #reels #thandai #milkshake #indore #streetfood #viralfood', 6: 'Our ring ceremony💍❤️\\n08-12-2022\\n\\nVenue: @grand5resort\\nVideography: @rajatmaheshwari.in\\nMusic: @adityarikhari', 7: 'Hello from Himachal! 🌨️☃️\\n.\\n#foodieincarnate #snowfall #himachaltourism #himachalpradesh #shimla #kufri #himachal #snowdrop', 8: 'Gadadhaari Shikanji of Patna😱😱\\n.\\nWatch the full video on my YouTube channel. Link is in my bio🤗🤗\\n.\\n#foodieincarnate #reelitfeelit #reelkarofeelkaro #reelsinstagram #reels #patna #bihar #viralfood #explore', 9: 'Guys, I am super excited for New Years and mere toh party plans sorted hai... ✨\\n\\nI know exactly how to get everyone together and make moments more magical 😁\\n\\nWith @monginiscelebrations you can get the most beautiful, yummy, and magical cakes that will be loved by everyone!\\n\\nYou can look for the nearest store at: https://cakesonline.monginis.net or order online.\\n\\n#foodieincarnate #magiceverytime #magicwithmonginis\\n#monginis #christmas #newyear2023 #NewYearParty #Celebrations', 10: 'Ice Apple to start the day🥥🍎\\n.\\nAlso known as Tadgola or Nungu..Ice Apple is the fruit of Palm Tree. Its edible part looks like a big litchi without the seed but its juicy and its taste has mild sweetness in it. It is one of my favourite fruits.❤\\n.\\n#foodieincarnate #sodelhi #newdelhi #delhigram #foodtalkindia #desifood #indianfood #iceapple #palmfruit #freshfruit #marathi #maharashtra_ig #fruitarian #veganfood #delhite #somumbai #mumbaifoodblogger #mumbai_igers #tropicalfruit #hydrovegan #dragonfruit #starfruit #marathifood #summerfruit #summerfood #seasonalfruit #thali #summers #kolkata #tadgola'}, 'dilsefoodie': {1: 'Kharode Making In Bulk At Pindi Wala, Ramesh Nagar\\n#dilsefoodie #dilsecouple #food #kharode', 2: 'Delhi Winters And Keema Meat At Ashok And Ashok Meat Dhaba, Sadar Bazar #dilsefoodie #streetfood #meat', 3: 'And we experienced this Sattvic Unlimited Thali In Rs 290 At @ekyamkitchen , Ambala Cant\\nLess than 1km From Delhi - Punjab Highway\\n#Ad #dilsefoodie #sattvicfood #ekyam #Ambala', 4: 'Delhi Ki Sardi And Nand Di Hatti Ke Chole Bhature 🤓\\nBhai Saab Thand Jyada Ho Rahi Hai Tag Your Chole Bhature Partner.\\n#dilsefoodie #streetfood #cholebhature', 5: 'Thats How They Make Rs 1600/kg Garam Masala At Durga Masala Store,\\nINA .\\nWhatsapp For Order : 9811710186\\n#dilsefoodie #dilsecouple #masale #inamarket', 6: 'The Most Humble And Entertaining Guy In Amritsar\\n#dilsefoodie #streetfood #amritsar @heerapaneerwala', 7: 'Breakfast At Garg Poori Wale, Ambala\\n#dilsefoodie #streetfood #ambalafood', 8: 'Preparing DUCK At @hutongdubai Dubai\\nCaptued By @chatpati_shikha\\n#dilsefoodie #dubai #chineserestaurant #hutong', 9: 'Preparing For @pavitdua First Lohri Function 😂😂😂😂\\nIts gonna be funny family moments...🤣\\n\\n#dilsefoodie #happylohri #dilsecouple #funnyvideos', 10: 'All Time Favourite Breakfast Sunny Side Up Egg\\n#dilsefoodie #sunnysideup #egg #breakfast'}, 'foodtalkindia': {1: \"A bite from your favourite places with your cocktail is just the vibe we want to set for your day at the Gin Explorers Club -Mythical Edition! 🍔✨🍸\\n\\nWith @impresarioindia Handmade Restaurants, we bring you the best of flavours to indulge in and explore at the food zone. 😋🍕\\n\\nGet your tickets today from the link in bio to experience an amazing food spread. 🍽️🤤🎟️\\n\\nWhen: 7th & 8th January ✨\\nWhere: Jio World Garden, Mumbai📍\\n\\nIt's #GinOClock!\\n.\\n.\\n.\\n#ginexplorersclub #gin #festival #cocktails #mumbai #gintonic #drinks #music #impressario #mumbai\", 2: \"Listen up Mumbai! 📣\\nHere’s your guide to India's biggest Gin Festival this weekend! 🥳\\n\\nMake your way and experience over 15 Cocktail Bars, Pop-Up Restaurants, Live Music Acts and more! 🍽️🍸🤤🎶\\n\\nWe’re so pumped to celebrate #GinOClock with you at the Gin Explorers Club - Mythical Edition! 👯\\u200d♀️\\n\\nCome and get gin-ing!\\n\\nWhen: 7th & 8th January ✨\\nWhere: Jio World Garden, Mumbai📍\\n\\nGet ready to for a weekend full of Gin with us!🎉\\n\\nBook your tickets from the link in bio and get gin-ing! 🎟️\\n.\\n.\\n.\\n#ginexplorersclub #GinOClock #mumbai #gin #mythicaledition #foodtalkindia #foodiesofindia #foodblogger #delicious #yummy #instafood #discover\", 3: 'While it may be a ‘cold wave’ kind of day, we still hope to go out for a nice and warm picnic this weekend! ❄️🧺\\n\\nHere’s a list of things you need to have for your picnic! 🥪🥧\\n\\nSave this list for later because you will surely need it! ☀️\\n.\\n.\\n.\\n#picnic #essentials #food #foodtalkindia #foodiesofindia #foodblogger #delicious #yummy #instafood #discover', 4: '@impresarioindia Handmade Restaurants bringing together the best of flavours for you to indulge in and explore at the food zone! ⏰🍸\\n\\nChoose from a crazy range of burgers, bowls, pizzas, dimsums and more while unraveling the best of Gin and music at the Gin Explorers Club - Mythical Edition! 🍸🍔🍕\\n\\nWhen: 7th & 8th January ✨\\nWhere: Jio World Garden, Mumbai 📍\\n\\nGet ready to for a weekend full of Gin with us!🎉\\n\\nBook your tickets from the link in bio and get gin-ing! 🎟️\\n.\\n.\\n.\\n#ginexplorersclub #GinOClock #mumbai #gin #mythicaledition #foodtalkindia #foodiesofindia #foodblogger #delicious #yummy #instafood #discover', 5: 'Guess what, Mumbai? We’re T-3 days away from the biggest Gin festival! 🍸✨\\n\\nCome and sip on the best Gin brands, dig into scrumptious food and groove to amazing music at the Gin Explorers Club - Mythical Edition! 👯\\u200d♀️\\n\\nWhen: 7th & 8th January 🥂\\nWhere: Jio World Garden, Mumbai 📍\\n\\nPrep yourself for a crazy weekend full of Gin!🎉\\n\\nBook your tickets from the link in bio! 🎟️\\n.\\n.\\n.\\n#ginexplorersclub #GinOClock #mumbai #gin #mythicaledition #foodtalkindia #foodiesofindia #foodblogger #delicious #yummy #instafood #discover', 6: \"#NewInTown @navamumbai\\nNava is a newly-launched restaurant in Bandra West, giving ode to regional ingredients while creating a memorable dining experience. 🍽️\\n\\nInspired by founder Anushka Pathak’s travels and Chef Akash Deshpande’s stints across the globe. ✈️\\n\\nThe restaurant serves an ingredient-driven cuisine that pays homage to its meaning (new, recently created, inventive, innovative) by taking a refreshing culinary approach. 🍲\\n\\nThe menu reflects the ‘art-on-plate’ concept which is realized by appreciating the produce and giving it a ‘new’ meaning while letting it evolve through the chapters of its culinary journey. 🖼️\\n\\nIn Frame:\\n- Kaitha - Wood Apple\\n- Vincent Van Gogh’s ‘The Starry Night’\\n- Rosemary's Baby\\n- Kokum Prawns\\n- Tadgola as Michelangelo's David\\n\\nWhere: 2nd floor, Suburbia Building Between Linking Road, Bandra West, Mumbai 📍\\nWhen: Monday to Sunday from 11:00 AM - 4:00 PM and 7:00 PM - 1:30 AM ✨\\n.\\n.\\n.\\n#nava #restaurant #foodtalkindia #foodiesofindia #foodblogger #delicious #yummy #instafood #discover\", 7: '#GiveawayAlert Stand a chance to win a hamper from Penfolds this New Year! 🍷✨\\n\\nAn Australian brand that has been making remarkable wines, Penfolds is the ideal wine to sip on with your family and friends this new year. 🥂\\n\\nHere’s what you need to do to win:\\n1. Follow @penfolds on Instagram.\\n2. Tell us who you’d like to share a glass of Penfolds Koonunga Hill Shiraz Cabernet with.\\n3. Tag them and ask them to participate in the giveaway.\\n\\n3 winners still stand a chance to win a hamper that includes the beautiful Penfolds Koonunga Hill Shiraz Cabernet along with a delicious cheese box to pair it with and their popular electric bottle opener.🍷🧀🫕\\n\\nThe giveaway is open for Delhi NCR residents and it ends on 6th January, 2023. 🎉\\n.\\n.\\n.\\n#penfolds #penfoldswines #koonungahill #shiraz #cheese #participatenow #foodtalkindia #foodiesofindia #foodblogger #delicious #yummy #instafood #discover', 8: 'Starting the new year with a brunch? Head over to these spots for a wholesome meal! 🥂🎉🥘🍜\\n\\nShare and save it for later! 👯\\u200d♀️\\n.\\n.\\n.\\n#NYE #party #drinks #food #foodtalkindia #foodiesofindia #foodblogger #delicious #yummy #instafood #discover', 9: 'Hey Mumbai, ready for the biggest Gin festival? 🍸✨\\n\\nExperience the best of music, food along with unlimited Gin at the Gin Explorers Club - Mythical Edition!💃🏻\\n\\nWhen: 7th & 8th January 🎉\\nWhere: Jio World Garden, Mumbai 📍\\n\\nGet ready to get gin-ing! 🎉\\n\\nBook your tickets from the link in bio! 🎟️\\n.\\n.\\n.\\n#ginexplorersclub #GinOClock #mumbai #gin #mythicaledition #foodtalkindia #foodiesofindia #foodblogger #delicious #yummy #instafood #discover', 10: 'Celebrating NYE at home? Here are some last minute things to get!💃🏻🥂🎉\\n\\nShare and save it for later! 👯\\u200d♀️\\n.\\n.\\n.\\n#NYE #party #drinks #food #foodtalkindia #foodiesofindia #foodblogger #delicious #yummy #instafood #discover'}, 'foodfoodtv': {1: '@chefmanishmehrotra and Dhiraj Dargan are the brains behind the retro-futuristic restaurant @comorin.in that bring together Indian Food, Cafe dishes, bar nibbles to form into a ravishing fusion foods.\\n\\n#ffawards22 #foodfoodawards2022 #fftvawards22 #foodfood', 2: '@masquerestaurant Mumbai, the brainchild of @aditidugar & @adityavdugar innovates the authentic Indian cooking ways and ingredients to a splendid Modern Indian fine dine.\\n\\n#ffawards22 #fftvawards22 #foodfoodawards2022', 3: 'The most inventive approach to Our Traditional Indian food and an exquisite fine dining experience. @indianaccent has shown its colours to be at the Top of our list.\\n\\n#ffawards22 #fftvawards22 #foodfoodawards2022', 4: 'Til halwa is typically prepared during the celebration of makarsankranti festival.\\n.\\n.\\n#til #halwa #festival #festivefood #makarsankranti #kiteflying #indiandessert #foodfood', 5: 'Makhana laddoo is a quick and healthy laddoo made with jaggery and nuts.\\n\\n#laddoo #makhana #makarsankranti #makarsankranti2023 #foodfood', 6: 'Sabudana Vada is a crispy Maharashtrian snack. These simple but addictive sago fritters are popular recipe during fasting season.\\n\\n#fastingrecipes #sago #sabudanavada #delicious #crispy #foodfood', 7: 'Best egg rice you can ever have!\\n\\n#rice #eggrice #tasty #delicious #homemade #foodfodd', 8: 'When it comes to Indo-Chinese, fried rice is the best dish you can ever have!\\n\\n#homemade #chinesefood #indochinese #winterfood #friedrice #delicious #foodfood', 9: 'As we have entered the season of winter, this salad is a combination of all winter vegetables.\\n\\n#healthyfood #salad #wintersalad #delicious #imunitybooster #foodfood', 10: 'Ragi kheer is known as a wonder grain for weight loss. It is also a common baby food. Best aid for diabetes.\\n\\n#ragi #kheer #delicious #indiandessert #tasty #foodfood'}}\n"
     ]
    }
   ],
   "source": [
    "\n",
    "dic = {}\n",
    "for i in topfive:\n",
    "    search_open(driver,i)\n",
    "    time.sleep(2)\n",
    "    firstpost = driver.find_element(By.XPATH,'//div[starts-with(@class,\"_aabd \")]')\n",
    "    \n",
    "    time.sleep(2)\n",
    "    firstpost.click()\n",
    "    d = {}\n",
    "    count = 1\n",
    "    while count < 11:\n",
    "        content = wait.until(EC.presence_of_element_located((By.XPATH, \"//div[@class = '_a9zr']/div/span\"))).text\n",
    "        d[count] = content\n",
    "        try:\n",
    "            next_post = wait.until(EC.element_to_be_clickable((By.XPATH, \"//div[contains(@class,'_aaqg')]/button\")))\n",
    "            next_post.click()\n",
    "        except TimeoutException as e:\n",
    "            print(\"There are no more posts!\")\n",
    "        count += 1\n",
    "    dic[i] = d\n",
    "\n",
    "    \n",
    "\n",
    "       \n",
    "    driver.back()\n",
    "    time.sleep(2)\n",
    "    driver.back()\n",
    "    time.sleep(2)\n",
    "print(dic)"
   ]
  },
  {
   "cell_type": "markdown",
   "id": "b2b772da",
   "metadata": {},
   "source": [
    "> 2. Prepare a list of all words used in all the scraped posts and calculate the frequency of each word."
   ]
  },
  {
   "cell_type": "code",
   "execution_count": 31,
   "id": "98842faf",
   "metadata": {},
   "outputs": [],
   "source": [
    "di = {'foodnetwork': {1: \"Recipe of the Day: @inagarten's Chicken Pot Pie 🤩\\n\\nSearch for the recipe on FoodNetwork.com!\", 2: \"Get a sneak peek at the tailgate dishes being served up when the @broncos host the @colts on the next episode of @nfl #TailgateTakedown!\\n\\nIt's all-new Wednesday at 9|8c.\", 3: 'Unravel store-bought cinnamon roll dough to make swirled PANCAKES that are the best of both worlds! 🌀\\u2060\\n\\u2060\\nSearch \"Cinnamon Roll-Wrapped Pancakes\" on FoodNetwork.com for the recipe!\\u2060\\n\\u2060\\n🎥: @sprinklebakes', 4: '@wolfiesmom whips up easy-to-make no-bake granola bars with a decadent chocolate drizzle! 🤤\\n\\n#KidsBakingChampionship is all-new Monday at 8|7c. Stream it the same day on @discoveryplus. #discoveryplus\\n\\nFind the recipe for Valerie\\'s \"No-Bake Granola Bars with Carob Drizzle\" on FoodNetwork.com!', 5: '@chefanneburrell prepares a flavorful, plant-based burger that\\'s just as satisfying as its meaty counterpart! 🍔\\n\\n#WorstCooks is all-new Sunday at 8|7c.\\n\\nFind the recipe for \"Mushroom and Black Bean Burger with American Cheese\" on FoodNetwork.com!', 6: 'Shrimp Coconut Curry is the comfy weeknight meal you NEEED! (Thanks, @ManeetChauhan 👏)\\u2060\\n\\u2060\\nGet the recipe with the link in our bio.', 7: 'The dinner options are endless when you have a pot of homemade chicken stock simmering on the stove! @geoffreyzakarian uses kitchen leftovers for an easy and money-saving stock 👏👏\\n\\nWatch #TheKitchen, Saturdays at 11a|10c and subscribe to @discoveryplus to stream more episodes. #discoveryplus\\n\\nGet the recipe for \"GZ\\'s Chicken Stock\" on FoodNetwork.com!', 8: 'With basket ingredients to gamble, things can get a little DICEY on #Chopped Casino Royale! 🎲\\n\\nDon’t miss battle two of this tournament on Tuesday at 8|7c! 🔪 Stream past seasons of #Chopped now on @discoveryplus. #discoveryplus', 9: '@superchef_23 grills up a spice-rubbed steak with lemongrass for this easy and elegant rice bowl!\\n\\n#WorstCooks is all-new Sunday at 8|7c.\\n\\nFind the recipe for \"Sesame Skirt Steak with Coconut Lemongrass Rice Bowl\" on Foodnetwork.com!', 10: \"@mollyyeh fills her golden brown Arayes, a popular Middle Eastern dish, with delicious spiced beef and serves them with a side of creamy yogurt-tahini sauce 😍🥙\\n\\nWatch a NEW #GirlMeetsFarm Sundays @ 11a|10c. Subscribe to @discoveryplus to stream the series. #discoveryplus\\n\\nGet Molly's recipe for Arayes on FoodNetwork.com!\"}, 'foodie_incarnate': {1: \"4 Million Subscribers on YouTube🤩🤩\\n.\\nWhen i started my YouTube journey back in Dec 2020, if someone had told me that i'll be having 40,00,000+ subscribers a couple of years later, i'd have laughed on it. But with loads of hardwork and loads of love that you guys gave me..i have reached this milestone. Can't thank you guys enough.❤️❤️\\nWill be working even harder to post even better content and keep showing you guys the best vegetarian food on Earth.🤗🤗\", 2: 'Lunch scenes from @potpot.in 🤩🤩\\n.\\nOne of the best eateries in DLF Avenue, Saket👍🏻\\n.\\n#foodieincarnate #foodieincarnaterestaurantreviews #newdelhi #dlfavenue', 3: 'Crazy Making Process of Manda Roti in Indore😱😱\\n.\\nWatch the full video on my YouTube channel. Link is in my bio🤗🤗\\n.\\n#foodieincarnate #reelitfeelit #reelkarofeelkaro #reelsinstagram #reels #bread #indore #viralfood #indianfood #explore', 4: 'Insane Making Process of Kala Namak😱😱\\n.\\nWatch the full video on my YouTube channel. Link is in my bio🤗🤗\\n.\\n#foodieincarnate #reelitfeelit #reelkarofeelkaro #reelsinstagram #reels #streetfood #unique #viralvideos #explore', 5: 'Mahakal Thandai of Indore😱😱\\n.\\nWatch the full video on my YouTube channel. Link is in my bio🤗🤗\\n.\\n#foodieincarnate #reelitfeelit #reelkarofeelkaro #reelsinstagram #reels #thandai #milkshake #indore #streetfood #viralfood', 6: 'Our ring ceremony💍❤️\\n08-12-2022\\n\\nVenue: @grand5resort\\nVideography: @rajatmaheshwari.in\\nMusic: @adityarikhari', 7: 'Hello from Himachal! 🌨️☃️\\n.\\n#foodieincarnate #snowfall #himachaltourism #himachalpradesh #shimla #kufri #himachal #snowdrop', 8: 'Gadadhaari Shikanji of Patna😱😱\\n.\\nWatch the full video on my YouTube channel. Link is in my bio🤗🤗\\n.\\n#foodieincarnate #reelitfeelit #reelkarofeelkaro #reelsinstagram #reels #patna #bihar #viralfood #explore', 9: 'Guys, I am super excited for New Years and mere toh party plans sorted hai... ✨\\n\\nI know exactly how to get everyone together and make moments more magical 😁\\n\\nWith @monginiscelebrations you can get the most beautiful, yummy, and magical cakes that will be loved by everyone!\\n\\nYou can look for the nearest store at: https://cakesonline.monginis.net or order online.\\n\\n#foodieincarnate #magiceverytime #magicwithmonginis\\n#monginis #christmas #newyear2023 #NewYearParty #Celebrations', 10: 'Ice Apple to start the day🥥🍎\\n.\\nAlso known as Tadgola or Nungu..Ice Apple is the fruit of Palm Tree. Its edible part looks like a big litchi without the seed but its juicy and its taste has mild sweetness in it. It is one of my favourite fruits.❤\\n.\\n#foodieincarnate #sodelhi #newdelhi #delhigram #foodtalkindia #desifood #indianfood #iceapple #palmfruit #freshfruit #marathi #maharashtra_ig #fruitarian #veganfood #delhite #somumbai #mumbaifoodblogger #mumbai_igers #tropicalfruit #hydrovegan #dragonfruit #starfruit #marathifood #summerfruit #summerfood #seasonalfruit #thali #summers #kolkata #tadgola'}, 'dilsefoodie': {1: 'Kharode Making In Bulk At Pindi Wala, Ramesh Nagar\\n#dilsefoodie #dilsecouple #food #kharode', 2: 'Delhi Winters And Keema Meat At Ashok And Ashok Meat Dhaba, Sadar Bazar #dilsefoodie #streetfood #meat', 3: 'And we experienced this Sattvic Unlimited Thali In Rs 290 At @ekyamkitchen , Ambala Cant\\nLess than 1km From Delhi - Punjab Highway\\n#Ad #dilsefoodie #sattvicfood #ekyam #Ambala', 4: 'Delhi Ki Sardi And Nand Di Hatti Ke Chole Bhature 🤓\\nBhai Saab Thand Jyada Ho Rahi Hai Tag Your Chole Bhature Partner.\\n#dilsefoodie #streetfood #cholebhature', 5: 'Thats How They Make Rs 1600/kg Garam Masala At Durga Masala Store,\\nINA .\\nWhatsapp For Order : 9811710186\\n#dilsefoodie #dilsecouple #masale #inamarket', 6: 'The Most Humble And Entertaining Guy In Amritsar\\n#dilsefoodie #streetfood #amritsar @heerapaneerwala', 7: 'Breakfast At Garg Poori Wale, Ambala\\n#dilsefoodie #streetfood #ambalafood', 8: 'Preparing DUCK At @hutongdubai Dubai\\nCaptued By @chatpati_shikha\\n#dilsefoodie #dubai #chineserestaurant #hutong', 9: 'Preparing For @pavitdua First Lohri Function 😂😂😂😂\\nIts gonna be funny family moments...🤣\\n\\n#dilsefoodie #happylohri #dilsecouple #funnyvideos', 10: 'All Time Favourite Breakfast Sunny Side Up Egg\\n#dilsefoodie #sunnysideup #egg #breakfast'}, 'foodtalkindia': {1: \"A bite from your favourite places with your cocktail is just the vibe we want to set for your day at the Gin Explorers Club -Mythical Edition! 🍔✨🍸\\n\\nWith @impresarioindia Handmade Restaurants, we bring you the best of flavours to indulge in and explore at the food zone. 😋🍕\\n\\nGet your tickets today from the link in bio to experience an amazing food spread. 🍽️🤤🎟️\\n\\nWhen: 7th & 8th January ✨\\nWhere: Jio World Garden, Mumbai📍\\n\\nIt's #GinOClock!\\n.\\n.\\n.\\n#ginexplorersclub #gin #festival #cocktails #mumbai #gintonic #drinks #music #impressario #mumbai\", 2: \"Listen up Mumbai! 📣\\nHere’s your guide to India's biggest Gin Festival this weekend! 🥳\\n\\nMake your way and experience over 15 Cocktail Bars, Pop-Up Restaurants, Live Music Acts and more! 🍽️🍸🤤🎶\\n\\nWe’re so pumped to celebrate #GinOClock with you at the Gin Explorers Club - Mythical Edition! 👯\\u200d♀️\\n\\nCome and get gin-ing!\\n\\nWhen: 7th & 8th January ✨\\nWhere: Jio World Garden, Mumbai📍\\n\\nGet ready to for a weekend full of Gin with us!🎉\\n\\nBook your tickets from the link in bio and get gin-ing! 🎟️\\n.\\n.\\n.\\n#ginexplorersclub #GinOClock #mumbai #gin #mythicaledition #foodtalkindia #foodiesofindia #foodblogger #delicious #yummy #instafood #discover\", 3: 'While it may be a ‘cold wave’ kind of day, we still hope to go out for a nice and warm picnic this weekend! ❄️🧺\\n\\nHere’s a list of things you need to have for your picnic! 🥪🥧\\n\\nSave this list for later because you will surely need it! ☀️\\n.\\n.\\n.\\n#picnic #essentials #food #foodtalkindia #foodiesofindia #foodblogger #delicious #yummy #instafood #discover', 4: '@impresarioindia Handmade Restaurants bringing together the best of flavours for you to indulge in and explore at the food zone! ⏰🍸\\n\\nChoose from a crazy range of burgers, bowls, pizzas, dimsums and more while unraveling the best of Gin and music at the Gin Explorers Club - Mythical Edition! 🍸🍔🍕\\n\\nWhen: 7th & 8th January ✨\\nWhere: Jio World Garden, Mumbai 📍\\n\\nGet ready to for a weekend full of Gin with us!🎉\\n\\nBook your tickets from the link in bio and get gin-ing! 🎟️\\n.\\n.\\n.\\n#ginexplorersclub #GinOClock #mumbai #gin #mythicaledition #foodtalkindia #foodiesofindia #foodblogger #delicious #yummy #instafood #discover', 5: 'Guess what, Mumbai? We’re T-3 days away from the biggest Gin festival! 🍸✨\\n\\nCome and sip on the best Gin brands, dig into scrumptious food and groove to amazing music at the Gin Explorers Club - Mythical Edition! 👯\\u200d♀️\\n\\nWhen: 7th & 8th January 🥂\\nWhere: Jio World Garden, Mumbai 📍\\n\\nPrep yourself for a crazy weekend full of Gin!🎉\\n\\nBook your tickets from the link in bio! 🎟️\\n.\\n.\\n.\\n#ginexplorersclub #GinOClock #mumbai #gin #mythicaledition #foodtalkindia #foodiesofindia #foodblogger #delicious #yummy #instafood #discover', 6: \"#NewInTown @navamumbai\\nNava is a newly-launched restaurant in Bandra West, giving ode to regional ingredients while creating a memorable dining experience. 🍽️\\n\\nInspired by founder Anushka Pathak’s travels and Chef Akash Deshpande’s stints across the globe. ✈️\\n\\nThe restaurant serves an ingredient-driven cuisine that pays homage to its meaning (new, recently created, inventive, innovative) by taking a refreshing culinary approach. 🍲\\n\\nThe menu reflects the ‘art-on-plate’ concept which is realized by appreciating the produce and giving it a ‘new’ meaning while letting it evolve through the chapters of its culinary journey. 🖼️\\n\\nIn Frame:\\n- Kaitha - Wood Apple\\n- Vincent Van Gogh’s ‘The Starry Night’\\n- Rosemary's Baby\\n- Kokum Prawns\\n- Tadgola as Michelangelo's David\\n\\nWhere: 2nd floor, Suburbia Building Between Linking Road, Bandra West, Mumbai 📍\\nWhen: Monday to Sunday from 11:00 AM - 4:00 PM and 7:00 PM - 1:30 AM ✨\\n.\\n.\\n.\\n#nava #restaurant #foodtalkindia #foodiesofindia #foodblogger #delicious #yummy #instafood #discover\", 7: '#GiveawayAlert Stand a chance to win a hamper from Penfolds this New Year! 🍷✨\\n\\nAn Australian brand that has been making remarkable wines, Penfolds is the ideal wine to sip on with your family and friends this new year. 🥂\\n\\nHere’s what you need to do to win:\\n1. Follow @penfolds on Instagram.\\n2. Tell us who you’d like to share a glass of Penfolds Koonunga Hill Shiraz Cabernet with.\\n3. Tag them and ask them to participate in the giveaway.\\n\\n3 winners still stand a chance to win a hamper that includes the beautiful Penfolds Koonunga Hill Shiraz Cabernet along with a delicious cheese box to pair it with and their popular electric bottle opener.🍷🧀🫕\\n\\nThe giveaway is open for Delhi NCR residents and it ends on 6th January, 2023. 🎉\\n.\\n.\\n.\\n#penfolds #penfoldswines #koonungahill #shiraz #cheese #participatenow #foodtalkindia #foodiesofindia #foodblogger #delicious #yummy #instafood #discover', 8: 'Starting the new year with a brunch? Head over to these spots for a wholesome meal! 🥂🎉🥘🍜\\n\\nShare and save it for later! 👯\\u200d♀️\\n.\\n.\\n.\\n#NYE #party #drinks #food #foodtalkindia #foodiesofindia #foodblogger #delicious #yummy #instafood #discover', 9: 'Hey Mumbai, ready for the biggest Gin festival? 🍸✨\\n\\nExperience the best of music, food along with unlimited Gin at the Gin Explorers Club - Mythical Edition!💃🏻\\n\\nWhen: 7th & 8th January 🎉\\nWhere: Jio World Garden, Mumbai 📍\\n\\nGet ready to get gin-ing! 🎉\\n\\nBook your tickets from the link in bio! 🎟️\\n.\\n.\\n.\\n#ginexplorersclub #GinOClock #mumbai #gin #mythicaledition #foodtalkindia #foodiesofindia #foodblogger #delicious #yummy #instafood #discover', 10: 'Celebrating NYE at home? Here are some last minute things to get!💃🏻🥂🎉\\n\\nShare and save it for later! 👯\\u200d♀️\\n.\\n.\\n.\\n#NYE #party #drinks #food #foodtalkindia #foodiesofindia #foodblogger #delicious #yummy #instafood #discover'}, 'foodfoodtv': {1: '@chefmanishmehrotra and Dhiraj Dargan are the brains behind the retro-futuristic restaurant @comorin.in that bring together Indian Food, Cafe dishes, bar nibbles to form into a ravishing fusion foods.\\n\\n#ffawards22 #foodfoodawards2022 #fftvawards22 #foodfood', 2: '@masquerestaurant Mumbai, the brainchild of @aditidugar & @adityavdugar innovates the authentic Indian cooking ways and ingredients to a splendid Modern Indian fine dine.\\n\\n#ffawards22 #fftvawards22 #foodfoodawards2022', 3: 'The most inventive approach to Our Traditional Indian food and an exquisite fine dining experience. @indianaccent has shown its colours to be at the Top of our list.\\n\\n#ffawards22 #fftvawards22 #foodfoodawards2022', 4: 'Til halwa is typically prepared during the celebration of makarsankranti festival.\\n.\\n.\\n#til #halwa #festival #festivefood #makarsankranti #kiteflying #indiandessert #foodfood', 5: 'Makhana laddoo is a quick and healthy laddoo made with jaggery and nuts.\\n\\n#laddoo #makhana #makarsankranti #makarsankranti2023 #foodfood', 6: 'Sabudana Vada is a crispy Maharashtrian snack. These simple but addictive sago fritters are popular recipe during fasting season.\\n\\n#fastingrecipes #sago #sabudanavada #delicious #crispy #foodfood', 7: 'Best egg rice you can ever have!\\n\\n#rice #eggrice #tasty #delicious #homemade #foodfodd', 8: 'When it comes to Indo-Chinese, fried rice is the best dish you can ever have!\\n\\n#homemade #chinesefood #indochinese #winterfood #friedrice #delicious #foodfood', 9: 'As we have entered the season of winter, this salad is a combination of all winter vegetables.\\n\\n#healthyfood #salad #wintersalad #delicious #imunitybooster #foodfood', 10: 'Ragi kheer is known as a wonder grain for weight loss. It is also a common baby food. Best aid for diabetes.\\n\\n#ragi #kheer #delicious #indiandessert #tasty #foodfood'}}"
   ]
  },
  {
   "cell_type": "code",
   "execution_count": 37,
   "id": "ef8497da",
   "metadata": {
    "collapsed": true
   },
   "outputs": [
    {
     "name": "stdout",
     "output_type": "stream",
     "text": [
      "{'TailgateTakedown!': 1, 'KidsBakingChampionship': 1, 'discoveryplus': 4, 'WorstCooks': 2, 'TheKitchen,': 1, 'Chopped': 2, 'GirlMeetsFarm': 1, 'foodieincarnate': 8, 'foodieincarnaterestaurantreviews': 1, 'newdelhi': 2, 'dlfavenue': 1, 'reelitfeelit': 4, 'reelkarofeelkaro': 4, 'reelsinstagram': 4, 'reels': 4, 'bread': 1, 'indore': 2, 'viralfood': 3, 'indianfood': 2, 'explore': 3, 'streetfood': 6, 'unique': 1, 'viralvideos': 1, 'thandai': 1, 'milkshake': 1, 'snowfall': 1, 'himachaltourism': 1, 'himachalpradesh': 1, 'shimla': 1, 'kufri': 1, 'himachal': 1, 'snowdrop': 1, 'patna': 1, 'bihar': 1, 'magiceverytime': 1, 'magicwithmonginis': 1, 'monginis': 1, 'christmas': 1, 'newyear2023': 1, 'NewYearParty': 1, 'Celebrations': 1, 'sodelhi': 1, 'delhigram': 1, 'foodtalkindia': 10, 'desifood': 1, 'iceapple': 1, 'palmfruit': 1, 'freshfruit': 1, 'marathi': 1, 'maharashtra_ig': 1, 'fruitarian': 1, 'veganfood': 1, 'delhite': 1, 'somumbai': 1, 'mumbaifoodblogger': 1, 'mumbai_igers': 1, 'tropicalfruit': 1, 'hydrovegan': 1, 'dragonfruit': 1, 'starfruit': 1, 'marathifood': 1, 'summerfruit': 1, 'summerfood': 1, 'seasonalfruit': 1, 'thali': 1, 'summers': 1, 'kolkata': 1, 'tadgola': 1, 'dilsefoodie': 10, 'dilsecouple': 3, 'food': 4, 'kharode': 1, 'meat': 1, 'Ad': 1, 'sattvicfood': 1, 'ekyam': 1, 'Ambala': 1, 'cholebhature': 1, 'masale': 1, 'inamarket': 1, 'amritsar': 1, 'ambalafood': 1, 'dubai': 1, 'chineserestaurant': 1, 'hutong': 1, 'happylohri': 1, 'funnyvideos': 1, 'sunnysideup': 1, 'egg': 1, 'breakfast': 1, 'GinOClock!': 1, 'ginexplorersclub': 5, 'gin': 5, 'festival': 2, 'cocktails': 1, 'mumbai': 6, 'gintonic': 1, 'drinks': 3, 'music': 1, 'impressario': 1, 'GinOClock': 5, 'mythicaledition': 4, 'foodiesofindia': 9, 'foodblogger': 9, 'delicious': 14, 'yummy': 9, 'instafood': 9, 'discover': 9, 'picnic': 1, 'essentials': 1, 'NewInTown': 1, 'nava': 1, 'restaurant': 1, 'GiveawayAlert': 1, 'penfolds': 1, 'penfoldswines': 1, 'koonungahill': 1, 'shiraz': 1, 'cheese': 1, 'participatenow': 1, 'NYE': 2, 'party': 2, 'ffawards22': 3, 'foodfoodawards2022': 3, 'fftvawards22': 3, 'foodfood': 7, 'til': 1, 'halwa': 1, 'festivefood': 1, 'makarsankranti': 2, 'kiteflying': 1, 'indiandessert': 2, 'laddoo': 1, 'makhana': 1, 'makarsankranti2023': 1, 'fastingrecipes': 1, 'sago': 1, 'sabudanavada': 1, 'crispy': 1, 'rice': 1, 'eggrice': 1, 'tasty': 2, 'homemade': 2, 'foodfodd': 1, 'chinesefood': 1, 'indochinese': 1, 'winterfood': 1, 'friedrice': 1, 'healthyfood': 1, 'salad': 1, 'wintersalad': 1, 'imunitybooster': 1, 'ragi': 1, 'kheer': 1}\n",
      "{'Recipe': 1, 'of': 34, 'the': 65, 'Day': 1, 'inagarten': 1, 's': 16, 'Chicken': 2, 'Pot': 1, 'Pie': 1, 'Search': 2, 'for': 26, 'recipe': 9, 'on': 25, 'FoodNetwork': 6, 'com': 7, '': 18, 'Get': 8, 'a': 37, 'sneak': 1, 'peek': 1, 'at': 17, 'tailgate': 1, 'dishes': 2, 'being': 1, 'served': 1, 'up': 4, 'when': 2, 'broncos': 1, 'host': 1, 'colts': 1, 'next': 1, 'episode': 1, 'nfl': 1, 'TailgateTakedown': 1, 'It': 4, 'all': 5, 'new': 8, 'Wednesday': 1, '9': 1, '8c': 1, 'Unravel': 1, 'store': 2, 'bought': 1, 'cinnamon': 1, 'roll': 1, 'dough': 1, 'to': 40, 'make': 3, 'swirled': 1, 'PANCAKES': 1, 'that': 9, 'are': 5, 'best': 9, 'both': 1, 'worlds': 1, 'Cinnamon': 1, 'Roll': 1, 'Wrapped': 1, 'Pancakes': 1, 'sprinklebakes': 1, 'wolfiesmom': 1, 'whips': 1, 'easy': 3, 'no': 1, 'bake': 1, 'granola': 1, 'bars': 1, 'with': 20, 'decadent': 1, 'chocolate': 1, 'drizzle': 1, 'KidsBakingChampionship': 1, 'is': 22, 'Monday': 2, '8': 4, '7c': 4, 'Stream': 2, 'it': 12, 'same': 1, 'day': 4, 'discoveryplus': 8, 'Find': 3, 'Valerie': 1, 'No': 1, 'Bake': 1, 'Granola': 1, 'Bars': 2, 'Carob': 1, 'Drizzle': 1, 'chefanneburrell': 1, 'prepares': 1, 'flavorful': 1, 'plant': 1, 'based': 1, 'burger': 1, 'just': 2, 'as': 5, 'satisfying': 1, 'its': 6, 'meaty': 1, 'counterpart': 1, 'WorstCooks': 2, 'Sunday': 3, 'Mushroom': 1, 'and': 37, 'Black': 1, 'Bean': 1, 'Burger': 1, 'American': 1, 'Cheese': 1, 'Shrimp': 1, 'Coconut': 2, 'Curry': 1, 'comfy': 1, 'weeknight': 1, 'meal': 2, 'you': 15, 'NEEED': 1, 'Thanks': 1, 'ManeetChauhan': 1, 'link': 6, 'in': 21, 'our': 2, 'bio': 10, 'The': 7, 'dinner': 1, 'options': 1, 'endless': 1, 'have': 7, 'pot': 1, 'homemade': 3, 'chicken': 1, 'stock': 2, 'simmering': 1, 'stove': 1, 'geoffreyzakarian': 1, 'uses': 1, 'kitchen': 1, 'leftovers': 1, 'an': 4, 'money': 1, 'saving': 1, 'Watch': 6, 'TheKitchen': 1, 'Saturdays': 1, '11a': 2, '10c': 2, 'subscribe': 1, 'stream': 2, 'more': 4, 'episodes': 1, 'GZ': 1, 'Stock': 1, 'With': 3, 'basket': 1, 'ingredients': 3, 'gamble': 1, 'things': 3, 'can': 5, 'get': 8, 'little': 1, 'DICEY': 1, 'Chopped': 2, 'Casino': 1, 'Royale': 1, 'Don': 1, 't': 2, 'miss': 1, 'battle': 1, 'two': 1, 'this': 10, 'tournament': 1, 'Tuesday': 1, 'past': 1, 'seasons': 1, 'now': 1, 'superchef_23': 1, 'grills': 1, 'spice': 1, 'rubbed': 1, 'steak': 1, 'lemongrass': 1, 'elegant': 1, 'rice': 4, 'bowl': 1, 'Sesame': 1, 'Skirt': 1, 'Steak': 1, 'Lemongrass': 1, 'Rice': 1, 'Bowl': 1, 'Foodnetwork': 1, 'mollyyeh': 1, 'fills': 1, 'her': 1, 'golden': 1, 'brown': 1, 'Arayes': 2, 'popular': 3, 'Middle': 1, 'Eastern': 1, 'dish': 2, 'delicious': 16, 'spiced': 1, 'beef': 1, 'serves': 2, 'them': 3, 'side': 1, 'creamy': 1, 'yogurt': 1, 'tahini': 1, 'sauce': 1, 'NEW': 1, 'GirlMeetsFarm': 1, 'Sundays': 1, 'Subscribe': 1, 'series': 1, 'Molly': 1, '4': 2, 'Million': 1, 'Subscribers': 1, 'YouTube': 6, 'When': 8, 'i': 4, 'started': 1, 'my': 10, 'journey': 2, 'back': 1, 'Dec': 1, '2020': 1, 'if': 1, 'someone': 1, 'had': 1, 'told': 1, 'me': 2, 'll': 1, 'be': 6, 'having': 1, '40': 1, '00': 4, '000': 1, 'subscribers': 1, 'couple': 1, 'years': 1, 'later': 4, 'd': 2, 'laughed': 1, 'But': 1, 'loads': 2, 'hardwork': 1, 'love': 1, 'guys': 3, 'gave': 1, 'reached': 1, 'milestone': 1, 'Can': 1, 'thank': 1, 'enough': 1, 'Will': 1, 'working': 1, 'even': 2, 'harder': 1, 'post': 1, 'better': 1, 'content': 1, 'keep': 1, 'showing': 1, 'vegetarian': 1, 'food': 12, 'Earth': 1, 'Lunch': 1, 'scenes': 1, 'from': 12, 'potpot': 1, 'One': 1, 'eateries': 1, 'DLF': 1, 'Avenue': 1, 'Saket': 1, 'foodieincarnate': 8, 'foodieincarnaterestaurantreviews': 1, 'newdelhi': 2, 'dlfavenue': 1, 'Crazy': 1, 'Making': 3, 'Process': 2, 'Manda': 1, 'Roti': 1, 'Indore': 2, 'full': 7, 'video': 4, 'channel': 4, 'Link': 4, 'reelitfeelit': 4, 'reelkarofeelkaro': 4, 'reelsinstagram': 4, 'reels': 4, 'bread': 1, 'indore': 2, 'viralfood': 3, 'indianfood': 2, 'explore': 5, 'Insane': 1, 'Kala': 1, 'Namak': 1, 'streetfood': 6, 'unique': 1, 'viralvideos': 1, 'Mahakal': 1, 'Thandai': 1, 'thandai': 1, 'milkshake': 1, 'Our': 2, 'ring': 1, 'ceremony': 1, '08': 1, '12': 1, '2022': 1, 'Venue': 1, 'grand5resort': 1, 'Videography': 1, 'rajatmaheshwari': 1, 'Music': 2, 'adityarikhari': 1, 'Hello': 1, 'Himachal': 1, 'snowfall': 1, 'himachaltourism': 1, 'himachalpradesh': 1, 'shimla': 1, 'kufri': 1, 'himachal': 1, 'snowdrop': 1, 'Gadadhaari': 1, 'Shikanji': 1, 'Patna': 1, 'patna': 1, 'bihar': 1, 'Guys': 1, 'I': 2, 'am': 1, 'super': 1, 'excited': 1, 'New': 2, 'Years': 1, 'mere': 1, 'toh': 1, 'party': 3, 'plans': 1, 'sorted': 1, 'hai': 1, 'know': 1, 'exactly': 1, 'how': 1, 'everyone': 2, 'together': 3, 'moments': 2, 'magical': 2, 'monginiscelebrations': 1, 'most': 2, 'beautiful': 2, 'yummy': 10, 'cakes': 1, 'will': 2, 'loved': 1, 'by': 4, 'You': 1, 'look': 1, 'nearest': 1, 'https': 1, 'cakesonline': 1, 'monginis': 2, 'net': 1, 'or': 2, 'order': 1, 'online': 1, 'magiceverytime': 1, 'magicwithmonginis': 1, 'christmas': 1, 'newyear2023': 1, 'NewYearParty': 1, 'Celebrations': 1, 'Ice': 2, 'Apple': 3, 'start': 1, 'Also': 1, 'known': 2, 'Tadgola': 2, 'Nungu': 1, 'fruit': 1, 'Palm': 1, 'Tree': 1, 'Its': 2, 'edible': 1, 'part': 1, 'looks': 1, 'like': 2, 'big': 1, 'litchi': 1, 'without': 1, 'seed': 1, 'but': 2, 'juicy': 1, 'taste': 1, 'has': 3, 'mild': 1, 'sweetness': 1, 'one': 1, 'favourite': 2, 'fruits': 1, 'sodelhi': 1, 'delhigram': 1, 'foodtalkindia': 10, 'desifood': 1, 'iceapple': 1, 'palmfruit': 1, 'freshfruit': 1, 'marathi': 1, 'maharashtra_ig': 1, 'fruitarian': 1, 'veganfood': 1, 'delhite': 1, 'somumbai': 1, 'mumbaifoodblogger': 1, 'mumbai_igers': 1, 'tropicalfruit': 1, 'hydrovegan': 1, 'dragonfruit': 1, 'starfruit': 1, 'marathifood': 1, 'summerfruit': 1, 'summerfood': 1, 'seasonalfruit': 1, 'thali': 1, 'summers': 1, 'kolkata': 1, 'tadgola': 1, 'Kharode': 1, 'In': 4, 'Bulk': 1, 'At': 6, 'Pindi': 1, 'Wala': 1, 'Ramesh': 1, 'Nagar': 1, 'dilsefoodie': 10, 'dilsecouple': 3, 'kharode': 1, 'Delhi': 4, 'Winters': 1, 'And': 5, 'Keema': 1, 'Meat': 2, 'Ashok': 2, 'Dhaba': 1, 'Sadar': 1, 'Bazar': 1, 'meat': 1, 'we': 5, 'experienced': 1, 'Sattvic': 1, 'Unlimited': 1, 'Thali': 1, 'Rs': 2, '290': 1, 'ekyamkitchen': 1, 'Ambala': 3, 'Cant': 1, 'Less': 1, 'than': 1, '1km': 1, 'From': 1, 'Punjab': 1, 'Highway': 1, 'Ad': 1, 'sattvicfood': 1, 'ekyam': 1, 'Ki': 1, 'Sardi': 1, 'Nand': 1, 'Di': 1, 'Hatti': 1, 'Ke': 1, 'Chole': 2, 'Bhature': 2, 'Bhai': 1, 'Saab': 1, 'Thand': 1, 'Jyada': 1, 'Ho': 1, 'Rahi': 1, 'Hai': 1, 'Tag': 2, 'Your': 1, 'Partner': 1, 'cholebhature': 1, 'Thats': 1, 'How': 1, 'They': 1, 'Make': 2, '1600': 1, 'kg': 1, 'Garam': 1, 'Masala': 2, 'Durga': 1, 'Store': 1, 'INA': 1, 'Whatsapp': 1, 'For': 2, 'Order': 1, '9811710186': 1, 'masale': 1, 'inamarket': 1, 'Most': 1, 'Humble': 1, 'Entertaining': 1, 'Guy': 1, 'Amritsar': 1, 'amritsar': 1, 'heerapaneerwala': 1, 'Breakfast': 2, 'Garg': 1, 'Poori': 1, 'Wale': 1, 'ambalafood': 1, 'Preparing': 2, 'DUCK': 1, 'hutongdubai': 1, 'Dubai': 1, 'Captued': 1, 'By': 1, 'chatpati_shikha': 1, 'dubai': 1, 'chineserestaurant': 1, 'hutong': 1, 'pavitdua': 1, 'First': 1, 'Lohri': 1, 'Function': 1, 'gonna': 1, 'funny': 1, 'family': 2, 'happylohri': 1, 'funnyvideos': 1, 'All': 1, 'Time': 1, 'Favourite': 1, 'Sunny': 1, 'Side': 1, 'Up': 2, 'Egg': 1, 'sunnysideup': 1, 'egg': 2, 'breakfast': 1, 'A': 1, 'bite': 1, 'your': 12, 'places': 1, 'cocktail': 1, 'vibe': 1, 'want': 1, 'set': 1, 'Gin': 14, 'Explorers': 5, 'Club': 5, 'Mythical': 5, 'Edition': 5, 'impresarioindia': 2, 'Handmade': 2, 'Restaurants': 3, 'bring': 2, 'flavours': 2, 'indulge': 2, 'zone': 2, 'tickets': 5, 'today': 1, 'experience': 4, 'amazing': 2, 'spread': 1, '7th': 5, '8th': 5, 'January': 6, 'Where': 6, 'Jio': 5, 'World': 5, 'Garden': 5, 'Mumbai': 10, 'GinOClock': 6, 'ginexplorersclub': 5, 'gin': 9, 'festival': 5, 'cocktails': 1, 'mumbai': 6, 'gintonic': 1, 'drinks': 3, 'music': 4, 'impressario': 1, 'Listen': 1, 'Here': 4, 'guide': 1, 'India': 1, 'biggest': 3, 'Festival': 1, 'weekend': 5, 'way': 1, 'over': 2, '15': 1, 'Cocktail': 1, 'Pop': 1, 'Live': 1, 'Acts': 1, 'We': 2, 're': 2, 'so': 1, 'pumped': 1, 'celebrate': 1, 'Come': 2, 'ing': 4, 'ready': 4, 'us': 3, 'Book': 4, 'mythicaledition': 4, 'foodiesofindia': 9, 'foodblogger': 9, 'instafood': 9, 'discover': 9, 'While': 1, 'may': 1, 'cold': 1, 'wave': 1, 'kind': 1, 'still': 2, 'hope': 1, 'go': 1, 'out': 1, 'nice': 1, 'warm': 1, 'picnic': 3, 'list': 3, 'need': 3, 'Save': 1, 'because': 1, 'surely': 1, 'essentials': 1, 'bringing': 1, 'Choose': 1, 'crazy': 2, 'range': 1, 'burgers': 1, 'bowls': 1, 'pizzas': 1, 'dimsums': 1, 'while': 3, 'unraveling': 1, 'Guess': 1, 'what': 2, 'T': 1, '3': 3, 'days': 1, 'away': 1, 'sip': 2, 'brands': 1, 'dig': 1, 'into': 2, 'scrumptious': 1, 'groove': 1, 'Prep': 1, 'yourself': 1, 'NewInTown': 1, 'navamumbai': 1, 'Nava': 1, 'newly': 1, 'launched': 1, 'restaurant': 4, 'Bandra': 2, 'West': 2, 'giving': 2, 'ode': 1, 'regional': 1, 'creating': 1, 'memorable': 1, 'dining': 2, 'Inspired': 1, 'founder': 1, 'Anushka': 1, 'Pathak': 1, 'travels': 1, 'Chef': 1, 'Akash': 1, 'Deshpande': 1, 'stints': 1, 'across': 1, 'globe': 1, 'ingredient': 1, 'driven': 1, 'cuisine': 1, 'pays': 1, 'homage': 1, 'meaning': 2, 'recently': 1, 'created': 1, 'inventive': 2, 'innovative': 1, 'taking': 1, 'refreshing': 1, 'culinary': 2, 'approach': 2, 'menu': 1, 'reflects': 1, 'art': 1, 'plate': 1, 'concept': 1, 'which': 1, 'realized': 1, 'appreciating': 1, 'produce': 1, 'letting': 1, 'evolve': 1, 'through': 1, 'chapters': 1, 'Frame': 1, 'Kaitha': 1, 'Wood': 1, 'Vincent': 1, 'Van': 1, 'Gogh': 1, 'Starry': 1, 'Night': 1, 'Rosemary': 1, 'Baby': 1, 'Kokum': 1, 'Prawns': 1, 'Michelangelo': 1, 'David': 1, '2nd': 1, 'floor': 1, 'Suburbia': 1, 'Building': 1, 'Between': 1, 'Linking': 1, 'Road': 1, '11': 1, 'AM': 2, 'PM': 2, '7': 1, '1': 2, '30': 1, 'nava': 1, 'GiveawayAlert': 1, 'Stand': 1, 'chance': 2, 'win': 3, 'hamper': 2, 'Penfolds': 4, 'Year': 1, 'An': 1, 'Australian': 1, 'brand': 1, 'been': 1, 'making': 1, 'remarkable': 1, 'wines': 1, 'ideal': 1, 'wine': 1, 'friends': 1, 'year': 2, 'do': 1, 'Follow': 1, 'penfolds': 2, 'Instagram': 1, '2': 1, 'Tell': 1, 'who': 1, 'share': 1, 'glass': 1, 'Koonunga': 2, 'Hill': 2, 'Shiraz': 2, 'Cabernet': 2, 'ask': 1, 'participate': 1, 'giveaway': 2, 'winners': 1, 'stand': 1, 'includes': 1, 'along': 2, 'cheese': 2, 'box': 1, 'pair': 1, 'their': 1, 'electric': 1, 'bottle': 1, 'opener': 1, 'open': 1, 'NCR': 1, 'residents': 1, 'ends': 1, '6th': 1, '2023': 1, 'penfoldswines': 1, 'koonungahill': 1, 'shiraz': 1, 'participatenow': 1, 'Starting': 1, 'brunch': 1, 'Head': 1, 'these': 1, 'spots': 1, 'wholesome': 1, 'Share': 2, 'save': 2, 'NYE': 3, 'Hey': 1, 'Experience': 1, 'unlimited': 1, 'Celebrating': 1, 'home': 1, 'some': 1, 'last': 1, 'minute': 1, 'chefmanishmehrotra': 1, 'Dhiraj': 1, 'Dargan': 1, 'brains': 1, 'behind': 1, 'retro': 1, 'futuristic': 1, 'comorin': 1, 'Indian': 4, 'Food': 1, 'Cafe': 1, 'bar': 1, 'nibbles': 1, 'form': 1, 'ravishing': 1, 'fusion': 1, 'foods': 1, 'ffawards22': 3, 'foodfoodawards2022': 3, 'fftvawards22': 3, 'foodfood': 7, 'masquerestaurant': 1, 'brainchild': 1, 'aditidugar': 1, 'adityavdugar': 1, 'innovates': 1, 'authentic': 1, 'cooking': 1, 'ways': 1, 'splendid': 1, 'Modern': 1, 'fine': 2, 'dine': 1, 'Traditional': 1, 'exquisite': 1, 'indianaccent': 1, 'shown': 1, 'colours': 1, 'Top': 1, 'Til': 1, 'halwa': 2, 'typically': 1, 'prepared': 1, 'during': 2, 'celebration': 1, 'makarsankranti': 3, 'til': 1, 'festivefood': 1, 'kiteflying': 1, 'indiandessert': 2, 'Makhana': 1, 'laddoo': 3, 'quick': 1, 'healthy': 1, 'made': 1, 'jaggery': 1, 'nuts': 1, 'makhana': 1, 'makarsankranti2023': 1, 'Sabudana': 1, 'Vada': 1, 'crispy': 2, 'Maharashtrian': 1, 'snack': 1, 'These': 1, 'simple': 1, 'addictive': 1, 'sago': 2, 'fritters': 1, 'fasting': 1, 'season': 2, 'fastingrecipes': 1, 'sabudanavada': 1, 'Best': 2, 'ever': 2, 'eggrice': 1, 'tasty': 2, 'foodfodd': 1, 'comes': 1, 'Indo': 1, 'Chinese': 1, 'fried': 1, 'chinesefood': 1, 'indochinese': 1, 'winterfood': 1, 'friedrice': 1, 'As': 1, 'entered': 1, 'winter': 2, 'salad': 2, 'combination': 1, 'vegetables': 1, 'healthyfood': 1, 'wintersalad': 1, 'imunitybooster': 1, 'Ragi': 1, 'kheer': 2, 'wonder': 1, 'grain': 1, 'weight': 1, 'loss': 1, 'also': 1, 'common': 1, 'baby': 1, 'aid': 1, 'diabetes': 1, 'ragi': 1}\n"
     ]
    }
   ],
   "source": [
    "dic = {}\n",
    "hashtags = {}\n",
    "import re\n",
    "for value in di.values():\n",
    "    for v in value.values():\n",
    "        l = [i.strip(\"#\") for i in v.split() if i.startswith(\"#\")]\n",
    "        for i in l:\n",
    "            for j in i.split(\"#\"):\n",
    "                hashtags[j] = hashtags.get(j,0)+1\n",
    "        for word in re.split(r\"[\\b\\W\\b]+\", v):\n",
    "\n",
    "            dic[word] = dic.get(word,0) + 1\n",
    "            \n",
    "print(hashtags)\n",
    "print(dic)\n",
    "            \n",
    "    "
   ]
  },
  {
   "cell_type": "markdown",
   "id": "11de963b",
   "metadata": {},
   "source": [
    "> 3. Create a csv file with two columns : the word and its frequency."
   ]
  },
  {
   "cell_type": "code",
   "execution_count": 39,
   "id": "dbe58ad8",
   "metadata": {},
   "outputs": [
    {
     "data": {
      "text/html": [
       "<div>\n",
       "<style scoped>\n",
       "    .dataframe tbody tr th:only-of-type {\n",
       "        vertical-align: middle;\n",
       "    }\n",
       "\n",
       "    .dataframe tbody tr th {\n",
       "        vertical-align: top;\n",
       "    }\n",
       "\n",
       "    .dataframe thead th {\n",
       "        text-align: right;\n",
       "    }\n",
       "</style>\n",
       "<table border=\"1\" class=\"dataframe\">\n",
       "  <thead>\n",
       "    <tr style=\"text-align: right;\">\n",
       "      <th></th>\n",
       "      <th>Words</th>\n",
       "      <th>Frequency</th>\n",
       "    </tr>\n",
       "  </thead>\n",
       "  <tbody>\n",
       "    <tr>\n",
       "      <th>0</th>\n",
       "      <td>Recipe</td>\n",
       "      <td>1</td>\n",
       "    </tr>\n",
       "    <tr>\n",
       "      <th>1</th>\n",
       "      <td>of</td>\n",
       "      <td>34</td>\n",
       "    </tr>\n",
       "    <tr>\n",
       "      <th>2</th>\n",
       "      <td>the</td>\n",
       "      <td>65</td>\n",
       "    </tr>\n",
       "    <tr>\n",
       "      <th>3</th>\n",
       "      <td>Day</td>\n",
       "      <td>1</td>\n",
       "    </tr>\n",
       "    <tr>\n",
       "      <th>4</th>\n",
       "      <td>inagarten</td>\n",
       "      <td>1</td>\n",
       "    </tr>\n",
       "    <tr>\n",
       "      <th>...</th>\n",
       "      <td>...</td>\n",
       "      <td>...</td>\n",
       "    </tr>\n",
       "    <tr>\n",
       "      <th>922</th>\n",
       "      <td>common</td>\n",
       "      <td>1</td>\n",
       "    </tr>\n",
       "    <tr>\n",
       "      <th>923</th>\n",
       "      <td>baby</td>\n",
       "      <td>1</td>\n",
       "    </tr>\n",
       "    <tr>\n",
       "      <th>924</th>\n",
       "      <td>aid</td>\n",
       "      <td>1</td>\n",
       "    </tr>\n",
       "    <tr>\n",
       "      <th>925</th>\n",
       "      <td>diabetes</td>\n",
       "      <td>1</td>\n",
       "    </tr>\n",
       "    <tr>\n",
       "      <th>926</th>\n",
       "      <td>ragi</td>\n",
       "      <td>1</td>\n",
       "    </tr>\n",
       "  </tbody>\n",
       "</table>\n",
       "<p>927 rows × 2 columns</p>\n",
       "</div>"
      ],
      "text/plain": [
       "         Words  Frequency\n",
       "0       Recipe          1\n",
       "1           of         34\n",
       "2          the         65\n",
       "3          Day          1\n",
       "4    inagarten          1\n",
       "..         ...        ...\n",
       "922     common          1\n",
       "923       baby          1\n",
       "924        aid          1\n",
       "925   diabetes          1\n",
       "926       ragi          1\n",
       "\n",
       "[927 rows x 2 columns]"
      ]
     },
     "execution_count": 39,
     "metadata": {},
     "output_type": "execute_result"
    }
   ],
   "source": [
    "import pandas as pd\n",
    "frequency = list(dic.values())\n",
    "word = list(dic.keys())\n",
    "data = pd.DataFrame({\"Words\":word, \"Frequency\":frequency})\n",
    "data"
   ]
  },
  {
   "cell_type": "code",
   "execution_count": 40,
   "id": "37ad8169",
   "metadata": {},
   "outputs": [],
   "source": [
    "data.to_csv(\"words.csv\", index = False)"
   ]
  },
  {
   "cell_type": "markdown",
   "id": "cc17d6d5",
   "metadata": {},
   "source": [
    "> 4. Now, find the hashtags that were most popular among these bloggers."
   ]
  },
  {
   "cell_type": "code",
   "execution_count": 43,
   "id": "daa3ccc8",
   "metadata": {},
   "outputs": [
    {
     "data": {
      "text/html": [
       "<div>\n",
       "<style scoped>\n",
       "    .dataframe tbody tr th:only-of-type {\n",
       "        vertical-align: middle;\n",
       "    }\n",
       "\n",
       "    .dataframe tbody tr th {\n",
       "        vertical-align: top;\n",
       "    }\n",
       "\n",
       "    .dataframe thead th {\n",
       "        text-align: right;\n",
       "    }\n",
       "</style>\n",
       "<table border=\"1\" class=\"dataframe\">\n",
       "  <thead>\n",
       "    <tr style=\"text-align: right;\">\n",
       "      <th></th>\n",
       "      <th>Words</th>\n",
       "      <th>Frequency</th>\n",
       "    </tr>\n",
       "  </thead>\n",
       "  <tbody>\n",
       "    <tr>\n",
       "      <th>0</th>\n",
       "      <td>delicious</td>\n",
       "      <td>14</td>\n",
       "    </tr>\n",
       "    <tr>\n",
       "      <th>1</th>\n",
       "      <td>foodtalkindia</td>\n",
       "      <td>10</td>\n",
       "    </tr>\n",
       "    <tr>\n",
       "      <th>2</th>\n",
       "      <td>dilsefoodie</td>\n",
       "      <td>10</td>\n",
       "    </tr>\n",
       "    <tr>\n",
       "      <th>3</th>\n",
       "      <td>foodiesofindia</td>\n",
       "      <td>9</td>\n",
       "    </tr>\n",
       "    <tr>\n",
       "      <th>4</th>\n",
       "      <td>foodblogger</td>\n",
       "      <td>9</td>\n",
       "    </tr>\n",
       "  </tbody>\n",
       "</table>\n",
       "</div>"
      ],
      "text/plain": [
       "            Words  Frequency\n",
       "0       delicious         14\n",
       "1   foodtalkindia         10\n",
       "2     dilsefoodie         10\n",
       "3  foodiesofindia          9\n",
       "4     foodblogger          9"
      ]
     },
     "execution_count": 43,
     "metadata": {},
     "output_type": "execute_result"
    }
   ],
   "source": [
    "import pandas as pd\n",
    "import numpy as np\n",
    "hashtags_sorted = dict(sorted(hashtags.items(), key = lambda x: x[1], reverse = True))\n",
    "hfrequency = list(hashtags_sorted.values())\n",
    "hword = list(hashtags_sorted.keys())\n",
    "hashdata = pd.DataFrame({\"Words\":hword, \"Frequency\":hfrequency})\n",
    "hashdata[0:5]"
   ]
  },
  {
   "cell_type": "markdown",
   "id": "c8e9717b",
   "metadata": {},
   "source": [
    "5. Plot a Pie Chart of the top 5 hashtags obtained and the number of times they were used by these bloggers in the scraped posts."
   ]
  },
  {
   "cell_type": "code",
   "execution_count": 51,
   "id": "9f9bf826",
   "metadata": {},
   "outputs": [
    {
     "data": {
      "image/png": "[encoded data removed]",
      "text/plain": [
       "<Figure size 432x288 with 1 Axes>"
      ]
     },
     "metadata": {},
     "output_type": "display_data"
    }
   ],
   "source": [
    "import matplotlib.pyplot as plt\n",
    "size = hfrequency[0:5]\n",
    "labels = hword[0:5]\n",
    "plt.pie(size, labels = labels, autopct = \"%.2f%%\")\n",
    "plt.title(\"Pie Chart of the top 5 hashtags obtained and the number of times they were used by the food bloggers.\")\n",
    "plt.axis(\"equal\")\n",
    "plt.show()"
   ]
  },
  {
   "cell_type": "markdown",
   "id": "afc1ec46",
   "metadata": {},
   "source": [
    "## Question: 3"
   ]
  },
  {
   "cell_type": "markdown",
   "id": "3079003e",
   "metadata": {},
   "source": [
    ">You need to also calculate average followers : likes ratio for the obtained handles.\n",
    "Followers : Likes ratio is calculated as follows:\n",
    "\n",
    "    1.Find out the likes of the top 10 posts of the 5 handles obtained earlier.\n",
    "    2.Calculate the average likes for a handle.\n",
    "    3.Divide the average likes obtained from the number of followers of the handle to get the average followers:like ratio of each handle.\n",
    "    4.Create a bar graph to depict the above obtained information.\n"
   ]
  },
  {
   "cell_type": "code",
   "execution_count": 107,
   "id": "c6fb5752",
   "metadata": {},
   "outputs": [],
   "source": [
    "topfive = {'foodnetwork': 12760921, 'foodie_incarnate': 1465130, 'dilsefoodie': 1066035, 'foodtalkindia': 309353, 'foodfoodtv': 272284}"
   ]
  },
  {
   "cell_type": "code",
   "execution_count": 108,
   "id": "10a57e59",
   "metadata": {},
   "outputs": [],
   "source": [
    "def search_open(driver, query):\n",
    "    try :\n",
    "        search_box = wait.until(EC.element_to_be_clickable((By.CLASS_NAME, \"_aauy\")))\n",
    "        search_box.clear()\n",
    "        search_box.send_keys(query)\n",
    "\n",
    "        #waiting for the first element to load\n",
    "        wait.until(EC.presence_of_element_located((By.CLASS_NAME, '_abm4'))).click()\n",
    "\n",
    "    \n",
    "    except TimeoutException:\n",
    "        print(\"can't search!\")"
   ]
  },
  {
   "cell_type": "code",
   "execution_count": 115,
   "id": "c3c661a2",
   "metadata": {
    "scrolled": true
   },
   "outputs": [
    {
     "name": "stdout",
     "output_type": "stream",
     "text": [
      "Likes count of top 10 posts :  {'foodnetwork': [2191, 1218, 1097, 3176, 1604, 6227, 5557, 1115, 1625], 'foodie_incarnate': [2439, 17378, 43591, 28994, 5419, 10081, 15031, 16480, 57408, 33258], 'dilsefoodie': [6146, 13122, 9706, 13902, 13481, 175413, 15616, 12468, 21395, 19975], 'foodtalkindia': [153, 532, 434, 383, 514, 238, 329, 390, 674, 792], 'foodfoodtv': [235, 110, 96, 116, 218, 292, 181, 360, 504, 155]}\n",
      "Average likes :  {'foodnetwork': 2645.5555555555557, 'foodie_incarnate': 23007.9, 'dilsefoodie': 30122.4, 'foodtalkindia': 443.9, 'foodfoodtv': 226.7}\n",
      "likes to followers ratio :  {'foodnetwork': 0.00020731697622417344, 'foodie_incarnate': 0.01570365769590412, 'dilsefoodie': 0.028256483136107166, 'foodtalkindia': 0.0014349303223178697, 'foodfoodtv': 0.0008325865640287347}\n"
     ]
    }
   ],
   "source": [
    "import numpy as np\n",
    "likes_to_followers = {}\n",
    "likes_top_10 = {}\n",
    "avg = {}\n",
    "for i in topfive:\n",
    "    \n",
    "    search_open(driver,i)\n",
    "    time.sleep(2)\n",
    "    \n",
    "    #clicking on the first post\n",
    "    element = driver.find_element(By.XPATH,'//div[starts-with(@class,\"_aabd \")]')\n",
    "    time.sleep(1)\n",
    "    driver.execute_script(\"arguments[0].scrollIntoView(true);\", element)\n",
    "    time.sleep(1)\n",
    "    element.click()\n",
    "\n",
    "\n",
    "    counts = []\n",
    "    count = 1\n",
    "    while count < 11:\n",
    "        try:\n",
    "            likes = wait.until(EC.presence_of_element_located((By.XPATH, \"//section[contains(@class, '_ae5m')]/div/div/div/a/div/span\"))).text\n",
    "            likes_count = int(likes.replace(\",\",\"\"))\n",
    "            counts.append(likes_count)\n",
    "            likes_top_10[i] = counts\n",
    "        except TimeoutException:\n",
    "            views = wait.until(EC.element_to_be_clickable((By.XPATH, \"//section[contains(@class, '_ae5m')]/div/span\")))\n",
    "            views.click()\n",
    "            likes = wait.until(EC.presence_of_element_located((By.XPATH,\"//div[@class = '_aauu']/span\"))).text\n",
    "            likes_count = int(likes.replace(\",\",\"\"))\n",
    "            likes_top_10[i] = counts\n",
    "      \n",
    "        next_post = wait.until(EC.element_to_be_clickable((By.XPATH, \"//div[contains(@class,'_aaqg')]/button\")))\n",
    "        driver.execute_script(\"arguments[0].click();\", next_post)\n",
    "\n",
    "        count += 1\n",
    "        \n",
    "    counts = np.array(counts)\n",
    "    avg[i] = counts.mean()\n",
    "    likes_to_followers[i] = counts.mean()/topfive[i]\n",
    "    driver.back()\n",
    "    time.sleep(2)\n",
    "    driver.back()\n",
    "    time.sleep(2)\n",
    "        \n",
    "\n",
    "\n",
    "print(\"Likes count of top 10 posts : \", likes_top_10)\n",
    "print(\"Average likes : \", avg)\n",
    "print(\"likes to followers ratio : \", likes_to_followers)\n",
    "        "
   ]
  },
  {
   "cell_type": "code",
   "execution_count": 116,
   "id": "6db07997",
   "metadata": {
    "scrolled": true
   },
   "outputs": [
    {
     "data": {
      "image/png": "[encoded data removed]",
      "text/plain": [
       "<Figure size 432x288 with 1 Axes>"
      ]
     },
     "metadata": {
      "needs_background": "light"
     },
     "output_type": "display_data"
    }
   ],
   "source": [
    "import matplotlib.pyplot as plt\n",
    "dic = {'foodnetwork': 0.00020731697622417344, 'foodie_incarnate': 0.01570365769590412, 'dilsefoodie': 0.028256483136107166, 'foodtalkindia': 0.0014349303223178697, 'foodfoodtv': 0.0008325865640287347}\n",
    "x = list(dic.keys())\n",
    "y = list(dic.values())\n",
    "plt.bar(x,y,align = 'center')\n",
    "plt.ylabel(\"Likes to Followers Ratio\")\n",
    "plt.xticks(x,rotation = 50)\n",
    "plt.show()"
   ]
  }
 ],
 "metadata": {
  "kernelspec": {
   "display_name": "Python 3 (ipykernel)",
   "language": "python",
   "name": "python3"
  },
  "language_info": {
   "codemirror_mode": {
    "name": "ipython",
    "version": 3
   },
   "file_extension": ".py",
   "mimetype": "text/x-python",
   "name": "python",
   "nbconvert_exporter": "python",
   "pygments_lexer": "ipython3",
   "version": "3.9.12"
  }
 },
 "nbformat": 4,
 "nbformat_minor": 5
}
