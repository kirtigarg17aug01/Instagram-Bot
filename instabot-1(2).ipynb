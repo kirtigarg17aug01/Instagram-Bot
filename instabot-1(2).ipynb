{
 "cells": [
  {
   "cell_type": "markdown",
   "id": "c624b217",
   "metadata": {},
   "source": [
    "- <font color=red> These codes will work for smaller chrome browser window size such that the home, inbox, explore, profile icons of instagram are below and search bar is on the top. </font>\n",
    "- <font color=red> Also, the size should be such that when you open any account the followers, following numbers should not be with the follow button."
   ]
  },
  {
   "cell_type": "markdown",
   "id": "9c943d57",
   "metadata": {},
   "source": [
    "## Question : 1"
   ]
  },
  {
   "cell_type": "markdown",
   "id": "17ae3fec",
   "metadata": {},
   "source": [
    ">Login to your Instagram Handle. Submit with sample username and password.\n",
    "\n"
   ]
  },
  {
   "cell_type": "code",
   "execution_count": null,
   "id": "cb007896",
   "metadata": {},
   "outputs": [],
   "source": [
    "from selenium import webdriver\n",
    "from selenium.webdriver.chrome.service import Service\n",
    "from webdriver_manager.chrome import ChromeDriverManager\n",
    "from bs4 import BeautifulSoup as bs\n",
    "from selenium.common.exceptions import NoSuchElementException\n",
    "from selenium.common.exceptions import TimeoutException\n",
    "from selenium.webdriver.common.by import By\n",
    "from selenium.webdriver.support.ui import WebDriverWait\n",
    "from selenium.webdriver.support import expected_conditions as EC\n",
    "import time"
   ]
  },
  {
   "cell_type": "code",
   "execution_count": null,
   "id": "f050994d",
   "metadata": {
    "scrolled": true
   },
   "outputs": [],
   "source": [
    "\n",
    "#opening the browser.\n",
    "driver = webdriver.Chrome(service= Service(ChromeDriverManager().install()))\n",
    "#opening the instagram page in the above browser.\n",
    "driver.get('https://www.instagram.com/?hl=en')\n",
    "#declaring wait.\n",
    "wait = WebDriverWait(driver,10)\n",
    "\n",
    "try:\n",
    "    link = wait.until(EC.presence_of_element_located((By.CLASS_NAME, \"_ab37\")))\n",
    "    link.click()\n",
    "    mailid = wait.until(EC.presence_of_element_located((By.NAME, \"email\")))\n",
    "    mailid.send_keys('kirtigarg17aug01@gmail.com')\n",
    "    pswrd = driver.find_element(By.NAME, \"pass\")\n",
    "    pswrd.send_keys('Kkkirtigarg@170801')\n",
    "    pswrd.submit()\n",
    "    mailid.submit()\n",
    "    pop_up = wait.until(EC.element_to_be_clickable((By.XPATH, \"//button[text()='Not Now']\")))\n",
    "    pop_up.click()\n",
    "    \n",
    "except TimeoutException:\n",
    "    print(\"Pop up not removed!\")"
   ]
  },
  {
   "cell_type": "markdown",
   "id": "5f14999f",
   "metadata": {},
   "source": [
    "## Question : 2\n",
    "\n",
    "\n"
   ]
  },
  {
   "cell_type": "markdown",
   "id": "4beb8938",
   "metadata": {},
   "source": [
    ">Type for “food” in search bar and print all the names of the Instagram Handles that are displayed in list after typing “food”\n",
    "Note : Make sure to avoid printing hashtags.\n"
   ]
  },
  {
   "cell_type": "code",
   "execution_count": null,
   "id": "663deaff",
   "metadata": {},
   "outputs": [],
   "source": [
    "#this code is for when the search bar is visible. this you will find when the size of the instgram\n",
    "#window is  short.\n",
    "\n",
    "try :\n",
    "    search_box = wait.until(EC.element_to_be_clickable((By.CLASS_NAME, \"_aauy\")))\n",
    "    search_box.clear()\n",
    "    search_box.send_keys('food')\n",
    "    wait.until(EC.presence_of_element_located((By.CLASS_NAME, '_abm4')))\n",
    "    li = driver.find_elements(By.CLASS_NAME, '_abm4')\n",
    "    for i in li:\n",
    "        if i.text[0] != \"#\":\n",
    "            print(i.text.split('\\n')[0])\n",
    "    \n",
    "except TimeoutException:\n",
    "    print(\"can't search\")\n",
    "    "
   ]
  },
  {
   "cell_type": "code",
   "execution_count": null,
   "id": "ada88aaa",
   "metadata": {},
   "outputs": [],
   "source": [
    "#closing the search bar\n",
    "wait.until(EC.presence_of_element_located((By.XPATH,\"//div[contains(@class, '_aawn')]\"))).click()"
   ]
  },
  {
   "cell_type": "markdown",
   "id": "5d19b1b0",
   "metadata": {},
   "source": [
    "## Question:3"
   ]
  },
  {
   "cell_type": "markdown",
   "id": "8984b239",
   "metadata": {},
   "source": [
    ">Searching and Opening a profile using \n",
    "Open profile of “So Delhi"
   ]
  },
  {
   "cell_type": "code",
   "execution_count": null,
   "id": "eda08fdd",
   "metadata": {},
   "outputs": [],
   "source": [
    "try :\n",
    "    search_box = wait.until(EC.element_to_be_clickable((By.CLASS_NAME, \"_aauy\")))\n",
    "    search_box.clear()\n",
    "    search_box.send_keys('sodelhi')\n",
    "    wait.until(EC.presence_of_element_located((By.CLASS_NAME, '_abm4')))\n",
    "    li = driver.find_elements(By.CLASS_NAME, '_abm4')\n",
    "    li[1].click()\n",
    "    \n",
    "except TimeoutException:\n",
    "    print(\"can't search!\")"
   ]
  },
  {
   "cell_type": "markdown",
   "id": "d77a38ae",
   "metadata": {},
   "source": [
    "## Question:4"
   ]
  },
  {
   "cell_type": "markdown",
   "id": "fd88aff2",
   "metadata": {},
   "source": [
    ">Follow/Unfollow given handle - \n",
    "1.Open the Instagram Handle of “So Delhi”\n",
    "2.Start following it. Print a message if you are already following\n",
    "3.After following, unfollow the instagram handle. Print a message if you have already unfollowed.\n"
   ]
  },
  {
   "cell_type": "markdown",
   "id": "30aadd49",
   "metadata": {},
   "source": [
    "### To follow-"
   ]
  },
  {
   "cell_type": "code",
   "execution_count": null,
   "id": "1ae67b70",
   "metadata": {},
   "outputs": [],
   "source": [
    "#locating the follow button and clicking it.\n",
    "try:\n",
    "    foll_unfoll_btn = wait.until(EC.presence_of_element_located((By.XPATH, \"//button[contains(@class,'_acan')]\")))\n",
    "    if foll_unfoll_btn.text == 'Follow':\n",
    "        foll_unfoll_btn.click()\n",
    "    else:\n",
    "        print(\"You're already following this account!\")\n",
    "        \n",
    "except TimeoutException:\n",
    "    print(\"Can't follow\")\n",
    "    "
   ]
  },
  {
   "cell_type": "code",
   "execution_count": null,
   "id": "161005f3",
   "metadata": {},
   "outputs": [],
   "source": [
    "# This is another (rather longer) xpath to locate the follow button.\n",
    "# wait.until(EC.presence_of_element_located((By.XPATH, \"//div[contains(@class,'_ab8w')]/div/div/button/div/div\")))\n"
   ]
  },
  {
   "cell_type": "markdown",
   "id": "ff2873a5",
   "metadata": {},
   "source": [
    "### To unfollow-"
   ]
  },
  {
   "cell_type": "code",
   "execution_count": null,
   "id": "3671453e",
   "metadata": {},
   "outputs": [],
   "source": [
    "try:\n",
    "    foll_unfoll_btn = wait.until(EC.presence_of_element_located((By.XPATH, \"//button[contains(@class,'_acan')]\")))\n",
    "    if foll_unfoll_btn.text == 'Following':\n",
    "        foll_unfoll_btn.click()\n",
    "        wait.until(EC.element_to_be_clickable((By.CLASS_NAME, '_abm4')))\n",
    "        li = driver.find_elements(By.CLASS_NAME, '_abm4')\n",
    "        li[4].click()\n",
    "    else:\n",
    "        print(\"You've already unfollowed!\")\n",
    "        \n",
    "except TimeoutException:\n",
    "    print(\"Can't follow\")\n"
   ]
  },
  {
   "cell_type": "markdown",
   "id": "0b3e4dfd",
   "metadata": {},
   "source": [
    "## Question : 5"
   ]
  },
  {
   "cell_type": "markdown",
   "id": "a427f8b9",
   "metadata": {},
   "source": [
    ">Like/Unlike posts\n",
    "\n",
    "    1.Liking the top 30 posts of the ‘dilsefoodie'. Print message if you have already liked it.\n",
    "    2.Unliking the top 30 posts of the ‘dilsefoodie’. Print message if you have already unliked it.\n"
   ]
  },
  {
   "cell_type": "code",
   "execution_count": null,
   "id": "093dec07",
   "metadata": {},
   "outputs": [],
   "source": [
    "# To go back from \"so delhi\" page to the home page.\n",
    "driver.back()"
   ]
  },
  {
   "cell_type": "code",
   "execution_count": null,
   "id": "e74b6fbf",
   "metadata": {},
   "outputs": [],
   "source": [
    "# Searching the given instagram handle and clicking it.\n",
    "try :\n",
    "    search_box = wait.until(EC.element_to_be_clickable((By.CLASS_NAME, \"_aauy\")))\n",
    "    search_box.clear()\n",
    "    search_box.send_keys('dilsefoodie')\n",
    "    wait.until(EC.presence_of_element_located((By.CLASS_NAME, '_abm4')))\n",
    "    li = driver.find_elements(By.CLASS_NAME, '_abm4')\n",
    "    li[1].click()\n",
    "    \n",
    "except TimeoutException:\n",
    "    print(\"can't search!\")"
   ]
  },
  {
   "cell_type": "markdown",
   "id": "f42335ce",
   "metadata": {},
   "source": [
    "### Liking First 30 posts:"
   ]
  },
  {
   "cell_type": "code",
   "execution_count": null,
   "id": "b38b0ef1",
   "metadata": {
    "scrolled": true
   },
   "outputs": [],
   "source": [
    "try :\n",
    "    first_post = wait.until(EC.element_to_be_clickable((By.CLASS_NAME, \"_aagw\")))\n",
    "    first_post.click()\n",
    "except TimeoutException:\n",
    "    print(\"can't even find the first post!\")\n",
    "\n",
    "i = 1\n",
    "while i<=30: \n",
    "\n",
    "    like_btn = wait.until(EC.element_to_be_clickable((By.XPATH, \"//section[contains(@class, '_aamu')]/span/button\")))\n",
    "    is_liked = wait.until(EC.presence_of_element_located((By.XPATH, \"//section[contains(@class, '_aamu')]/span/button/div\")))\n",
    "    if is_liked.get_attribute('class') == \"_abm0\":\n",
    "        print(\"This \"+str(i)+\"th is already liked!\")\n",
    "    else:\n",
    "        like_btn.click()\n",
    "    try:\n",
    "        next_post = wait.until(EC.element_to_be_clickable((By.XPATH, \"//div[contains(@class,'_aaqg')]/button\")))\n",
    "        next_post.click()\n",
    "    except TimeoutException as e:\n",
    "        print(\"There are no more posts!\")\n",
    "    i += 1\n",
    "#closing the 30th post.\n",
    "close_btn = wait.until(EC.element_to_be_clickable((By.XPATH, \"//div[contains(@class,'x10l6tqk')]/div/div\")))\n",
    "close_btn.click()\n"
   ]
  },
  {
   "cell_type": "markdown",
   "id": "7a2fa296",
   "metadata": {},
   "source": [
    "### Unliking First 30 posts:"
   ]
  },
  {
   "cell_type": "code",
   "execution_count": null,
   "id": "74cd2a59",
   "metadata": {},
   "outputs": [],
   "source": [
    "try :\n",
    "    first_post = wait.until(EC.element_to_be_clickable((By.CLASS_NAME, \"_aagw\")))\n",
    "    first_post.click()\n",
    "except TimeoutException:\n",
    "    print(\"can't even find the first post!\")\n",
    "try:\n",
    "    i = 1\n",
    "    while i<=30: \n",
    "        \n",
    "        like_btn = wait.until(EC.element_to_be_clickable((By.XPATH, \"//section[contains(@class, '_aamu')]/span/button\")))\n",
    "        is_liked = wait.until(EC.presence_of_element_located((By.XPATH, \"//section[contains(@class, '_aamu')]/span/button/div\")))\n",
    "        if is_liked.get_attribute('class') == \"_abm0\":\n",
    "            like_btn.click()\n",
    "            \n",
    "        else:\n",
    "            print(\"This \"+str(i)+\"th is already unliked!\")\n",
    "        next_post = wait.until(EC.element_to_be_clickable((By.XPATH, \"//div[contains(@class,'_aaqg')]/button\")))\n",
    "        next_post.click()\n",
    "        i += 1\n",
    "    #closing the 30th post.\n",
    "    close_btn = wait.until(EC.element_to_be_clickable((By.XPATH, \"//div[contains(@class,'x10l6tqk')]/div/div\")))\n",
    "    close_btn.click()\n",
    "except TimeoutException:\n",
    "    print(\"can't unlike any post!\")\n"
   ]
  },
  {
   "cell_type": "markdown",
   "id": "08a33784",
   "metadata": {},
   "source": [
    "## Question : 6"
   ]
  },
  {
   "cell_type": "markdown",
   "id": "53d394e2",
   "metadata": {},
   "source": [
    ">Extract list of followers\n",
    "\n",
    "    1.Extract the usernames of the first 500 followers of ‘foodtalkindia’ and ‘sodelhi’.\n",
    "    2.Now print all the followers of “foodtalkindia” that you are following but those who don’t follow you.\n"
   ]
  },
  {
   "cell_type": "code",
   "execution_count": null,
   "id": "59b465b6",
   "metadata": {},
   "outputs": [],
   "source": [
    "# loading page of \"foodtalkindia\" \n",
    "try :\n",
    "    search_box = wait.until(EC.element_to_be_clickable((By.CLASS_NAME, \"_aauy\")))\n",
    "    search_box.clear()\n",
    "    search_box.send_keys('foodtalkindia')\n",
    "    wait.until(EC.presence_of_element_located((By.CLASS_NAME, '_abm4')))\n",
    "    li = driver.find_elements(By.CLASS_NAME, '_abm4')\n",
    "    li[1].click()\n",
    "    \n",
    "except TimeoutException:\n",
    "    print(\"can't search!\")"
   ]
  },
  {
   "cell_type": "code",
   "execution_count": null,
   "id": "0af689e7",
   "metadata": {},
   "outputs": [],
   "source": [
    "follower_count = wait.until(EC.element_to_be_clickable((By.XPATH, \"//li[contains(@class, 'x6s0dn4')]/a/div\"))).text.split('\\n')[0]\n",
    "follower_btn = wait.until(EC.element_to_be_clickable((By.XPATH, \"//li[contains(@class, 'x6s0dn4')]/a/div\")))\n",
    "follower_btn.click()\n",
    "wait.until(EC.presence_of_element_located((By.XPATH,\"//div[contains(@class, '_ab8w')]/div/div/div/span/a/span/div\")))\n",
    "i=0\n",
    "while i<int(follower_count):\n",
    "    try :\n",
    "        followers = driver.find_elements(By.XPATH, \"//div[contains(@class, '_ab8w')]/div/div/div/span/a/span/div\" )\n",
    "        follower = followers[i]\n",
    "        print(follower.text)\n",
    "        i +=1\n",
    "        \n",
    "    except Exception as e:\n",
    "        driver.execute_script(\"arguments[0].scrollIntoView();\", follower)\n",
    "        time.sleep(2)\n",
    "        \n"
   ]
  },
  {
   "cell_type": "code",
   "execution_count": null,
   "id": "823b0b49",
   "metadata": {},
   "outputs": [],
   "source": [
    "#closing the follower panel.\n",
    "driver.find_element(By.XPATH, \"//div[contains(@class,'_ac7b')]/div/button\").click()"
   ]
  },
  {
   "cell_type": "markdown",
   "id": "a6a13ba8",
   "metadata": {},
   "source": [
    "## Question:7"
   ]
  },
  {
   "cell_type": "markdown",
   "id": "ceb9d26b",
   "metadata": {},
   "source": [
    ">Check the story of ‘coding.ninjas’. Consider the following Scenarios and print error messages accordingly -\n",
    "\n",
    "    If You have already seen the story.\n",
    "    Or The user has no story.\n",
    "    Or View the story if not yet seen.\n"
   ]
  },
  {
   "cell_type": "code",
   "execution_count": null,
   "id": "f1232081",
   "metadata": {
    "scrolled": true
   },
   "outputs": [],
   "source": [
    "# finding story.\n",
    "story = wait.until(EC.presence_of_element_located((By.XPATH,\"//div[contains(@class,'_aarf')]\")))\n",
    "if story.get_attribute('aria-disabled') == \"True\":\n",
    "    print(\"The user has no story!\")\n",
    "else:\n",
    "    height = driver.find_element(By.CLASS_NAME, \"_aarh\")\n",
    "    if height.get_attribute('height') == \"109\":\n",
    "        print(\"You have already seen the story!\")\n",
    "    else:\n",
    "        story.click()\n",
    "    \n",
    "    \n",
    "    "
   ]
  }
 ],
 "metadata": {
  "kernelspec": {
   "display_name": "Python 3 (ipykernel)",
   "language": "python",
   "name": "python3"
  },
  "language_info": {
   "codemirror_mode": {
    "name": "ipython",
    "version": 3
   },
   "file_extension": ".py",
   "mimetype": "text/x-python",
   "name": "python",
   "nbconvert_exporter": "python",
   "pygments_lexer": "ipython3",
   "version": "3.9.12"
  }
 },
 "nbformat": 4,
 "nbformat_minor": 5
}
